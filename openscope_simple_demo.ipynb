{
  "cells": [
    {
      "cell_type": "markdown",
      "metadata": {},
      "source": [
        "# OpenScope Simple Demo (Refactored)\n",
        "\n",
        "This notebook demonstrates the simplified OpenScope RL environment using the refactored codebase.\n",
        "\n",
        "## What This Demo Does:\n",
        "1. Uses the refactored `PlaywrightEnv` environment\n",
        "2. Retrieves game state using the modular `OpenScopeInterface`\n",
        "3. Issues random commands using the environment's action space\n",
        "4. Shows how the refactored code simplifies interaction\n",
        "\n",
        "## Prerequisites:\n",
        "- OpenScope server running on http://localhost:3003\n",
        "- Refactored environment modules installed\n",
        "- Playwright installed (`pip install playwright`)\n",
        "- Browsers installed (`playwright install chromium`)\n",
        "- nest_asyncio installed (`pip install nest-asyncio`) for Jupyter compatibility\n"
      ]
    },
    {
      "cell_type": "markdown",
      "metadata": {},
      "source": [
        "## Setup and Imports\n"
      ]
    },
    {
      "cell_type": "code",
      "execution_count": 2,
      "metadata": {},
      "outputs": [
        {
          "name": "stdout",
          "output_type": "stream",
          "text": [
            "✅ nest_asyncio applied for Jupyter compatibility\n",
            "✅ Imports complete\n",
            "   Game URL: http://localhost:3003\n",
            "   Airport: KLAS\n",
            "   Timewarp: 5x\n",
            "   Using refactored environment modules\n"
          ]
        }
      ],
      "source": [
        "# Apply nest_asyncio FIRST, before ANY other imports\n",
        "import nest_asyncio\n",
        "nest_asyncio.apply()\n",
        "print(\"✅ nest_asyncio applied for Jupyter compatibility\")\n",
        "\n",
        "import random\n",
        "import asyncio\n",
        "from environment import PlaywrightEnv, create_default_config\n",
        "from environment.utils import BrowserManager\n",
        "from environment.constants import DEFAULT_GAME_URL, DEFAULT_AIRPORT, DEFAULT_TIMEWARP\n",
        "\n",
        "print(\"✅ Imports complete\")\n",
        "print(f\"   Game URL: {DEFAULT_GAME_URL}\")\n",
        "print(f\"   Airport: {DEFAULT_AIRPORT}\")\n",
        "print(f\"   Timewarp: {DEFAULT_TIMEWARP}x\")\n",
        "print(\"   Using refactored environment modules\")\n"
      ]
    },
    {
      "cell_type": "markdown",
      "metadata": {},
      "source": [
        "## Initialize Environment\n"
      ]
    },
    {
      "cell_type": "code",
      "execution_count": 3,
      "metadata": {},
      "outputs": [
        {
          "name": "stdout",
          "output_type": "stream",
          "text": [
            "🔧 Environment Configuration:\n",
            "   Max aircraft: 10\n",
            "   Episode length: 300\n",
            "   Headless: False\n",
            "   Airport: KLAS\n",
            "   Timewarp: 5x\n"
          ]
        }
      ],
      "source": [
        "# Create environment configuration\n",
        "config = create_default_config(\n",
        "    max_aircraft=10,\n",
        "    episode_length=300,\n",
        "    headless=False  # Set to True for headless mode\n",
        ")\n",
        "\n",
        "print(\"🔧 Environment Configuration:\")\n",
        "print(f\"   Max aircraft: {config.max_aircraft}\")\n",
        "print(f\"   Episode length: {config.episode_length}\")\n",
        "print(f\"   Headless: {config.browser_config.headless}\")\n",
        "print(f\"   Airport: {config.airport}\")\n",
        "print(f\"   Timewarp: {config.timewarp}x\")\n"
      ]
    },
    {
      "cell_type": "markdown",
      "metadata": {},
      "source": [
        "## Create and Initialize Environment\n"
      ]
    },
    {
      "cell_type": "code",
      "execution_count": 4,
      "metadata": {},
      "outputs": [
        {
          "name": "stdout",
          "output_type": "stream",
          "text": [
            "🌐 Environment created successfully\n",
            "   Observation space: Dict('aircraft': Box(-inf, inf, (10, 14), float32), 'aircraft_mask': Box(False, True, (10,), bool), 'conflict_matrix': Box(0.0, 1.0, (10, 10), float32), 'global_state': Box(-inf, inf, (4,), float32))\n",
            "   Action space: Dict('aircraft_id': Discrete(11), 'altitude': Discrete(18), 'command_type': Discrete(5), 'heading': Discrete(13), 'speed': Discrete(8))\n"
          ]
        }
      ],
      "source": [
        "# Create the environment\n",
        "env = PlaywrightEnv(\n",
        "    max_aircraft=config.max_aircraft,\n",
        "    episode_length=config.episode_length,\n",
        "    headless=config.browser_config.headless,\n",
        "    airport=config.airport,\n",
        "    timewarp=config.timewarp\n",
        ")\n",
        "\n",
        "print(\"🌐 Environment created successfully\")\n",
        "print(f\"   Observation space: {env.observation_space}\")\n",
        "print(f\"   Action space: {env.action_space}\")\n"
      ]
    },
    {
      "cell_type": "markdown",
      "metadata": {},
      "source": [
        "## Reset Environment and Get Initial State\n"
      ]
    },
    {
      "cell_type": "code",
      "execution_count": 5,
      "metadata": {},
      "outputs": [
        {
          "name": "stdout",
          "output_type": "stream",
          "text": [
            "🎮 Environment reset successfully\n",
            "   Observation keys: ['aircraft', 'aircraft_mask', 'global_state', 'conflict_matrix']\n",
            "   Aircraft data shape: (10, 14)\n",
            "   Aircraft mask shape: (10,)\n",
            "   Conflict matrix shape: (10, 10)\n",
            "   Global state shape: (4,)\n",
            "   Info keys: ['raw_state', 'episode_metrics', 'config']\n"
          ]
        }
      ],
      "source": [
        "# Reset environment to start a new episode\n",
        "obs, info = env.reset()\n",
        "\n",
        "print(\"🎮 Environment reset successfully\")\n",
        "print(f\"   Observation keys: {list(obs.keys())}\")\n",
        "print(f\"   Aircraft data shape: {obs['aircraft'].shape}\")\n",
        "print(f\"   Aircraft mask shape: {obs['aircraft_mask'].shape}\")\n",
        "print(f\"   Conflict matrix shape: {obs['conflict_matrix'].shape}\")\n",
        "print(f\"   Global state shape: {obs['global_state'].shape}\")\n",
        "print(f\"   Info keys: {list(info.keys())}\")\n"
      ]
    },
    {
      "cell_type": "markdown",
      "metadata": {},
      "source": [
        "## Take Random Actions\n"
      ]
    },
    {
      "cell_type": "code",
      "execution_count": 6,
      "metadata": {},
      "outputs": [
        {
          "name": "stdout",
          "output_type": "stream",
          "text": [
            "🎯 Taking random actions...\n",
            "\n",
            "Step 1:\n",
            "   Action: {'aircraft_id': np.int64(5), 'altitude': np.int64(6), 'command_type': np.int64(1), 'heading': np.int64(11), 'speed': np.int64(6)}\n",
            "   Reward: 0.090\n",
            "   Terminated: False\n",
            "   Truncated: False\n",
            "   Score: 0\n",
            "   Aircraft count: 14\n",
            "\n",
            "Step 2:\n",
            "   Action: {'aircraft_id': np.int64(7), 'altitude': np.int64(0), 'command_type': np.int64(0), 'heading': np.int64(2), 'speed': np.int64(4)}\n",
            "   Reward: 0.090\n",
            "   Terminated: False\n",
            "   Truncated: False\n",
            "   Score: 0\n",
            "   Aircraft count: 14\n",
            "\n",
            "Step 3:\n",
            "   Action: {'aircraft_id': np.int64(2), 'altitude': np.int64(11), 'command_type': np.int64(2), 'heading': np.int64(3), 'speed': np.int64(6)}\n",
            "   Reward: 0.090\n",
            "   Terminated: False\n",
            "   Truncated: False\n",
            "   Score: 0\n",
            "   Aircraft count: 14\n",
            "\n",
            "Step 4:\n",
            "   Action: {'aircraft_id': np.int64(10), 'altitude': np.int64(3), 'command_type': np.int64(0), 'heading': np.int64(2), 'speed': np.int64(4)}\n",
            "   Reward: 0.090\n",
            "   Terminated: False\n",
            "   Truncated: False\n",
            "   Score: 0\n",
            "   Aircraft count: 14\n",
            "\n",
            "Step 5:\n",
            "   Action: {'aircraft_id': np.int64(4), 'altitude': np.int64(14), 'command_type': np.int64(3), 'heading': np.int64(3), 'speed': np.int64(6)}\n",
            "   Reward: 0.090\n",
            "   Terminated: False\n",
            "   Truncated: False\n",
            "   Score: 0\n",
            "   Aircraft count: 14\n",
            "\n",
            "✅ Random actions completed\n"
          ]
        }
      ],
      "source": [
        "# Take a few random actions to demonstrate the environment\n",
        "print(\"🎯 Taking random actions...\")\n",
        "\n",
        "for step in range(5):\n",
        "    # Sample a random action\n",
        "    action = env.action_space.sample()\n",
        "    \n",
        "    print(f\"\\nStep {step + 1}:\")\n",
        "    print(f\"   Action: {action}\")\n",
        "    \n",
        "    # Execute the action\n",
        "    obs, reward, terminated, truncated, info = env.step(action)\n",
        "    \n",
        "    print(f\"   Reward: {reward:.3f}\")\n",
        "    print(f\"   Terminated: {terminated}\")\n",
        "    print(f\"   Truncated: {truncated}\")\n",
        "    print(f\"   Score: {info.get('score', 'N/A')}\")\n",
        "    print(f\"   Aircraft count: {info.get('aircraft_count', 'N/A')}\")\n",
        "    \n",
        "    if terminated or truncated:\n",
        "        print(\"   Episode ended!\")\n",
        "        break\n",
        "\n",
        "print(\"\\n✅ Random actions completed\")\n"
      ]
    },
    {
      "cell_type": "markdown",
      "metadata": {},
      "source": [
        "## Manual Command Execution (Optional)\n"
      ]
    },
    {
      "cell_type": "code",
      "execution_count": 7,
      "metadata": {},
      "outputs": [
        {
          "name": "stdout",
          "output_type": "stream",
          "text": [
            "🎮 Manual command execution example:\n",
            "\n",
            "📋 Current Aircraft (14 total):\n",
            "   1. DAL73:\n",
            "      Altitude: 13000 ft\n",
            "      Heading: 1°\n",
            "      Speed: 280 kts\n",
            "      Category: arrival\n",
            "   2. NKS3194:\n",
            "      Altitude: 24000 ft\n",
            "      Heading: 1°\n",
            "      Speed: 280 kts\n",
            "      Category: arrival\n",
            "   3. NKS2625:\n",
            "      Altitude: 11000 ft\n",
            "      Heading: 4°\n",
            "      Speed: 280 kts\n",
            "      Category: arrival\n",
            "   4. NKS7852:\n",
            "      Altitude: 17000 ft\n",
            "      Heading: 4°\n",
            "      Speed: 280 kts\n",
            "      Category: arrival\n",
            "   5. N227BT:\n",
            "      Altitude: 19000 ft\n",
            "      Heading: 4°\n",
            "      Speed: 280 kts\n",
            "      Category: arrival\n",
            "   ... and 9 more aircraft\n",
            "\n",
            "📊 Game State:\n",
            "   Score: 0\n",
            "   Time: 3.0175\n",
            "   Conflicts: 0\n"
          ]
        }
      ],
      "source": [
        "# You can also execute manual commands using the environment's interface\n",
        "print(\"🎮 Manual command execution example:\")\n",
        "\n",
        "# Get current game state\n",
        "game_state = env.game_interface.get_game_state()\n",
        "\n",
        "if game_state and game_state.get('aircraft'):\n",
        "    print(f\"\\n📋 Current Aircraft ({len(game_state['aircraft'])} total):\")\n",
        "    for i, ac in enumerate(game_state['aircraft'][:5]):  # Show first 5\n",
        "        print(f\"   {i+1}. {ac['callsign']}:\")\n",
        "        print(f\"      Altitude: {ac['altitude']:.0f} ft\")\n",
        "        print(f\"      Heading: {ac['heading']:.0f}°\")\n",
        "        print(f\"      Speed: {ac['speed']:.0f} kts\")\n",
        "        print(f\"      Category: {ac['category']}\")\n",
        "    \n",
        "    if len(game_state['aircraft']) > 5:\n",
        "        print(f\"   ... and {len(game_state['aircraft']) - 5} more aircraft\")\n",
        "    \n",
        "    print(f\"\\n📊 Game State:\")\n",
        "    print(f\"   Score: {game_state.get('score', 'N/A')}\")\n",
        "    print(f\"   Time: {game_state.get('time', 'N/A')}\")\n",
        "    print(f\"   Conflicts: {len(game_state.get('conflicts', []))}\")\n",
        "else:\n",
        "    print(\"❌ No aircraft in the game\")\n"
      ]
    },
    {
      "cell_type": "markdown",
      "metadata": {},
      "source": [
        "## Enhanced State Extraction (Optional)\n"
      ]
    },
    {
      "cell_type": "code",
      "execution_count": 8,
      "metadata": {},
      "outputs": [
        {
          "name": "stdout",
          "output_type": "stream",
          "text": [
            "🔍 Enhanced state extraction:\n",
            "❌ Enhanced state extraction failed: cannot import name 'extract_enhanced_game_state' from 'environment.utils' (/Users/jmzlx/Projects/atc/openscope-rl/environment/utils.py)\n"
          ]
        }
      ],
      "source": [
        "# You can also get enhanced state with additional properties\n",
        "print(\"🔍 Enhanced state extraction:\")\n",
        "\n",
        "try:\n",
        "    from environment.utils import extract_enhanced_game_state\n",
        "    \n",
        "    enhanced_state = extract_enhanced_game_state(env.browser_manager.page)\n",
        "    \n",
        "    if enhanced_state and enhanced_state.get('aircraft'):\n",
        "        print(f\"\\n✅ Enhanced State Retrieved:\")\n",
        "        print(f\"   Total aircraft: {enhanced_state['numAircraft']}\")\n",
        "        print(f\"   Active conflicts: {len(enhanced_state['conflicts'])}\")\n",
        "        print(f\"   Current score: {enhanced_state['score']}\")\n",
        "        print(f\"   Game time: {enhanced_state['time']}\")\n",
        "        \n",
        "        if enhanced_state.get('weather'):\n",
        "            print(f\"   Weather data: {list(enhanced_state['weather'].keys())}\")\n",
        "        \n",
        "        # Show detailed info for first aircraft\n",
        "        if enhanced_state['aircraft']:\n",
        "            ac = enhanced_state['aircraft'][0]\n",
        "            print(f\"\\n📋 Detailed Aircraft Info ({ac['callsign']}):\")\n",
        "            \n",
        "            # Show some additional properties if available\n",
        "            additional_props = [\n",
        "                ('verticalSpeed', 'Vertical Speed'),\n",
        "                ('flightPhase', 'Flight Phase'),\n",
        "                ('squawk', 'Squawk'),\n",
        "                ('targetRunway', 'Target Runway'),\n",
        "                ('windSpeed', 'Wind Speed'),\n",
        "                ('mach', 'Mach Number')\n",
        "            ]\n",
        "            \n",
        "            for prop, label in additional_props:\n",
        "                if ac.get(prop) is not None:\n",
        "                    print(f\"   {label}: {ac[prop]}\")\n",
        "    else:\n",
        "        print(\"❌ Could not retrieve enhanced game state\")\n",
        "        \n",
        "except Exception as e:\n",
        "    print(f\"❌ Enhanced state extraction failed: {e}\")\n"
      ]
    },
    {
      "cell_type": "markdown",
      "metadata": {},
      "source": [
        "## Cleanup\n"
      ]
    },
    {
      "cell_type": "code",
      "execution_count": 9,
      "metadata": {},
      "outputs": [
        {
          "name": "stdout",
          "output_type": "stream",
          "text": [
            "🧹 Cleaning up...\n",
            "✅ Environment closed successfully\n",
            "\n",
            "🎉 Demo completed!\n",
            "\n",
            "The refactored environment provides:\n",
            "   • Clean separation of concerns\n",
            "   • Modular JavaScript functions\n",
            "   • Type-safe configuration\n",
            "   • Comprehensive error handling\n",
            "   • Easy-to-use interface\n"
          ]
        }
      ],
      "source": [
        "print(\"🧹 Cleaning up...\")\n",
        "\n",
        "# Close the environment\n",
        "env.close()\n",
        "\n",
        "print(\"✅ Environment closed successfully\")\n",
        "print(\"\\n🎉 Demo completed!\")\n",
        "print(\"\\nThe refactored environment provides:\")\n",
        "print(\"   • Clean separation of concerns\")\n",
        "print(\"   • Modular JavaScript functions\")\n",
        "print(\"   • Type-safe configuration\")\n",
        "print(\"   • Comprehensive error handling\")\n",
        "print(\"   • Easy-to-use interface\")\n"
      ]
    }
  ],
  "metadata": {
    "kernelspec": {
      "display_name": ".venv",
      "language": "python",
      "name": "python3"
    },
    "language_info": {
      "codemirror_mode": {
        "name": "ipython",
        "version": 3
      },
      "file_extension": ".py",
      "mimetype": "text/x-python",
      "name": "python",
      "nbconvert_exporter": "python",
      "pygments_lexer": "ipython3",
      "version": "3.13.2"
    }
  },
  "nbformat": 4,
  "nbformat_minor": 2
}
