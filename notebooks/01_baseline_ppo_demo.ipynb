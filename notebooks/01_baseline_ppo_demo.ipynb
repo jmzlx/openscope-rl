{
 "cells": [
  {
   "cell_type": "markdown",
   "metadata": {},
   "source": [
    "# Baseline PPO with Action Masking Demo\n",
    "\n",
    "This notebook demonstrates the baseline PPO approach for OpenScope RL with action masking.\n",
    "\n",
    "**Key Features:**\n",
    "- Action masking to prevent invalid actions\n",
    "- Small-scale training demo (10k steps)\n",
    "- Evaluation and visualization\n",
    "- Comparison vs random policy\n",
    "\n",
    "**Prerequisites:**\n",
    "- OpenScope server running at http://localhost:3003\n",
    "- All dependencies installed (`uv sync`)\n",
    "- Playwright browsers installed (`uv run playwright install chromium`)"
   ]
  },
  {
   "cell_type": "markdown",
   "metadata": {},
   "source": [
    "## 📚 Learning Objectives\n",
    "\n",
    "By the end of this notebook, you will understand:\n",
    "\n",
    "1. **Action Masking** - How to prevent invalid actions and improve sample efficiency by 2-3x\n",
    "2. **PPO Training Loop** - The core mechanics of Proximal Policy Optimization\n",
    "3. **Metrics Tracking** - How to monitor training progress with separation violations, success rates, and rewards\n",
    "4. **Policy Evaluation** - Techniques for comparing trained agents against baselines\n",
    "5. **Model Persistence** - Saving and loading trained models for deployment\n",
    "\n",
    "**Estimated Time**: 15-20 minutes (10k training steps)  \n",
    "**Prerequisites**: OpenScope server running, dependencies installed  \n",
    "**Hardware**: CPU sufficient for demo (GPU recommended for full training)"
   ]
  },
  {
   "cell_type": "markdown",
   "metadata": {},
   "source": [
    "## Section 1: Setup & Environment Creation\n",
    "\n",
    "First, let's import dependencies and create an environment with action masking."
   ]
  },
  {
   "cell_type": "code",
   "execution_count": 1,
   "metadata": {},
   "outputs": [
    {
     "name": "stdout",
     "output_type": "stream",
     "text": [
      "/Users/jmzlx/Projects/atc/openscope-rl/.venv\n",
      "Imports successful!\n"
     ]
    }
   ],
   "source": [
    "import sys\n",
    "from pathlib import Path\n",
    "\n",
    "print(sys.prefix)\n",
    "\n",
    "# Add parent directory to path\n",
    "sys.path.append(str(Path.cwd().parent))\n",
    "\n",
    "import numpy as np\n",
    "import matplotlib.pyplot as plt\n",
    "from stable_baselines3 import PPO\n",
    "from sb3_contrib.common.wrappers import ActionMasker\n",
    "\n",
    "from environment import (\n",
    "    PlaywrightEnv,\n",
    "    create_action_mask_fn,\n",
    "    print_action_mask_summary,\n",
    "    ActionMaskingWrapper,\n",
    "    DictToMultiDiscreteWrapper,\n",
    ")\n",
    "from experiments.metrics import MetricsTracker\n",
    "\n",
    "print(\"Imports successful!\")"
   ]
  },
  {
   "cell_type": "markdown",
   "metadata": {},
   "source": [
    "### Create Environment with Action Masking"
   ]
  },
  {
   "cell_type": "code",
   "execution_count": 2,
   "metadata": {},
   "outputs": [
    {
     "name": "stdout",
     "output_type": "stream",
     "text": [
      "Environment created!\n",
      "Observation space: Dict('aircraft': Box(-inf, inf, (5, 14), float32), 'aircraft_mask': Box(False, True, (5,), bool), 'conflict_matrix': Box(0.0, 1.0, (5, 5), float32), 'global_state': Box(-inf, inf, (4,), float32))\n",
      "Action space: MultiDiscrete([ 6  5 18 13  8])\n"
     ]
    }
   ],
   "source": [
    "# Create base environment\n",
    "env = PlaywrightEnv(\n",
    "    airport=\"KLAS\",\n",
    "    max_aircraft=5,  # Small for quick demo\n",
    "    headless=True,\n",
    "    timewarp=5,\n",
    "    episode_length=600,  # 10 minutes\n",
    ")\n",
    "\n",
    "# Convert Dict action space to MultiDiscrete for PPO compatibility\n",
    "env = DictToMultiDiscreteWrapper(env)\n",
    "\n",
    "# Apply action masking wrapper\n",
    "mask_fn = create_action_mask_fn(env)\n",
    "env = ActionMasker(env, mask_fn)\n",
    "\n",
    "print(f\"Environment created!\")\n",
    "print(f\"Observation space: {env.observation_space}\")\n",
    "print(f\"Action space: {env.action_space}\")"
   ]
  },
  {
   "cell_type": "markdown",
   "metadata": {},
   "source": [
    "### Demo: Action Masking in Action\n",
    "\n",
    "Let's see how action masking works by examining a few steps."
   ]
  },
  {
   "cell_type": "code",
   "execution_count": 3,
   "metadata": {},
   "outputs": [
    {
     "name": "stdout",
     "output_type": "stream",
     "text": [
      "\n",
      "Step 0: 12 aircraft active\n",
      "\n",
      "================================================================================\n",
      "ACTION MASK SUMMARY\n",
      "================================================================================\n",
      "Active Aircraft: 5 / 5\n",
      "Valid Aircraft IDs: 0 to 5 (inclusive)\n",
      "Total Valid Actions: 50 / 50\n",
      "Action Space Reduction: 0.0%\n",
      "================================================================================\n",
      "\n",
      "Step 1: 12 aircraft, reward=0.09\n",
      "Step 2: 12 aircraft, reward=0.09\n",
      "Step 3: 12 aircraft, reward=0.09\n",
      "\n",
      "Action masking demonstration complete!\n"
     ]
    }
   ],
   "source": [
    "# Reset environment\n",
    "obs, info = env.reset()\n",
    "\n",
    "# Get aircraft data from the raw state\n",
    "aircraft_data = info[\"raw_state\"].get(\"aircraft\", [])\n",
    "\n",
    "# Get the base environment for accessing original action space\n",
    "base_env = env.unwrapped\n",
    "while hasattr(base_env, 'env'):\n",
    "    base_env = base_env.env\n",
    "    if not hasattr(base_env, 'env'):\n",
    "        break\n",
    "\n",
    "print(f\"\\nStep 0: {len(aircraft_data)} aircraft active\")\n",
    "print_action_mask_summary(\n",
    "    obs,\n",
    "    aircraft_data,\n",
    "    base_env.config.max_aircraft,\n",
    "    base_env.action_space,  # Original Dict action space\n",
    ")\n",
    "\n",
    "# Take a few random actions\n",
    "for i in range(3):\n",
    "    action = env.action_space.sample()\n",
    "    obs, reward, terminated, truncated, info = env.step(action)\n",
    "    \n",
    "    aircraft_data = info[\"raw_state\"].get(\"aircraft\", [])\n",
    "    print(f\"Step {i+1}: {len(aircraft_data)} aircraft, reward={reward:.2f}\")\n",
    "    \n",
    "    if terminated or truncated:\n",
    "        break\n",
    "\n",
    "print(\"\\nAction masking demonstration complete!\")"
   ]
  },
  {
   "cell_type": "markdown",
   "metadata": {},
   "source": [
    "## Section 2: Small-Scale Training Demo\n",
    "\n",
    "Now let's train a PPO agent for 10k steps as a quick demonstration."
   ]
  },
  {
   "cell_type": "code",
   "execution_count": 4,
   "metadata": {},
   "outputs": [
    {
     "name": "stdout",
     "output_type": "stream",
     "text": [
      "Using cpu device\n",
      "Wrapping the env with a `Monitor` wrapper\n",
      "Wrapping the env in a DummyVecEnv.\n",
      "✅ PPO model created!\n",
      "   Policy: MultiInputPolicy\n",
      "   Observation space: Dict('aircraft': Box(-inf, inf, (5, 14), float32), 'aircraft_mask': Box(False, True, (5,), bool), 'conflict_matrix': Box(0.0, 1.0, (5, 5), float32), 'global_state': Box(-inf, inf, (4,), float32))\n",
      "   Action space: MultiDiscrete([ 6  5 18 13  8])\n"
     ]
    }
   ],
   "source": [
    "# Create PPO model with MultiInputPolicy for Dict observation space\n",
    "# Note: ActionMasker wrapper works with MultiDiscrete action space (converted by DictToMultiDiscreteWrapper)\n",
    "model = PPO(\n",
    "    \"MultiInputPolicy\",\n",
    "    env,\n",
    "    learning_rate=3e-4,\n",
    "    n_steps=2048,\n",
    "    batch_size=64,\n",
    "    n_epochs=10,\n",
    "    gamma=0.99,\n",
    "    gae_lambda=0.95,\n",
    "    clip_range=0.2,\n",
    "    verbose=1,\n",
    "    tensorboard_log=\"./tensorboard_logs/\",\n",
    ")\n",
    "\n",
    "print(\"✅ PPO model created!\")\n",
    "print(f\"   Policy: MultiInputPolicy\")\n",
    "print(f\"   Observation space: {env.observation_space}\")\n",
    "print(f\"   Action space: {env.action_space}\")\n"
   ]
  },
  {
   "cell_type": "code",
   "execution_count": null,
   "metadata": {},
   "outputs": [
    {
     "name": "stdout",
     "output_type": "stream",
     "text": [
      "Logging to ./tensorboard_logs/PPO_3\n"
     ]
    },
    {
     "data": {
      "application/vnd.jupyter.widget-view+json": {
       "model_id": "aba91adcec6e4163affeef25beb8561c",
       "version_major": 2,
       "version_minor": 0
      },
      "text/plain": [
       "Output()"
      ]
     },
     "metadata": {},
     "output_type": "display_data"
    },
    {
     "data": {
      "text/html": [
       "<pre style=\"white-space:pre;overflow-x:auto;line-height:normal;font-family:Menlo,'DejaVu Sans Mono',consolas,'Courier New',monospace\">JavaScript error: Invalid argument. Heading must be between 001 and 360\n",
       "</pre>\n"
      ],
      "text/plain": [
       "JavaScript error: Invalid argument. Heading must be between 001 and 360\n"
      ]
     },
     "metadata": {},
     "output_type": "display_data"
    },
    {
     "data": {
      "text/html": [
       "<pre style=\"white-space:pre;overflow-x:auto;line-height:normal;font-family:Menlo,'DejaVu Sans Mono',consolas,'Courier New',monospace\">JavaScript error: Invalid argument. Heading must be between 001 and 360\n",
       "</pre>\n"
      ],
      "text/plain": [
       "JavaScript error: Invalid argument. Heading must be between 001 and 360\n"
      ]
     },
     "metadata": {},
     "output_type": "display_data"
    },
    {
     "data": {
      "text/html": [
       "<pre style=\"white-space:pre;overflow-x:auto;line-height:normal;font-family:Menlo,'DejaVu Sans Mono',consolas,'Courier New',monospace\">JavaScript error: Invalid argument. Heading must be between 001 and 360\n",
       "</pre>\n"
      ],
      "text/plain": [
       "JavaScript error: Invalid argument. Heading must be between 001 and 360\n"
      ]
     },
     "metadata": {},
     "output_type": "display_data"
    },
    {
     "data": {
      "text/html": [
       "<pre style=\"white-space:pre;overflow-x:auto;line-height:normal;font-family:Menlo,'DejaVu Sans Mono',consolas,'Courier New',monospace\">JavaScript error: Invalid argument. Heading must be between 001 and 360\n",
       "</pre>\n"
      ],
      "text/plain": [
       "JavaScript error: Invalid argument. Heading must be between 001 and 360\n"
      ]
     },
     "metadata": {},
     "output_type": "display_data"
    },
    {
     "data": {
      "text/html": [
       "<pre style=\"white-space:pre;overflow-x:auto;line-height:normal;font-family:Menlo,'DejaVu Sans Mono',consolas,'Courier New',monospace\">JavaScript error: Invalid argument. Heading must be between 001 and 360\n",
       "</pre>\n"
      ],
      "text/plain": [
       "JavaScript error: Invalid argument. Heading must be between 001 and 360\n"
      ]
     },
     "metadata": {},
     "output_type": "display_data"
    },
    {
     "data": {
      "text/html": [
       "<pre style=\"white-space:pre;overflow-x:auto;line-height:normal;font-family:Menlo,'DejaVu Sans Mono',consolas,'Courier New',monospace\">JavaScript error: Invalid argument. Heading must be between 001 and 360\n",
       "</pre>\n"
      ],
      "text/plain": [
       "JavaScript error: Invalid argument. Heading must be between 001 and 360\n"
      ]
     },
     "metadata": {},
     "output_type": "display_data"
    },
    {
     "data": {
      "text/html": [
       "<pre style=\"white-space:pre;overflow-x:auto;line-height:normal;font-family:Menlo,'DejaVu Sans Mono',consolas,'Courier New',monospace\">JavaScript error: Invalid argument. Heading must be between 001 and 360\n",
       "</pre>\n"
      ],
      "text/plain": [
       "JavaScript error: Invalid argument. Heading must be between 001 and 360\n"
      ]
     },
     "metadata": {},
     "output_type": "display_data"
    },
    {
     "data": {
      "text/html": [
       "<pre style=\"white-space:pre;overflow-x:auto;line-height:normal;font-family:Menlo,'DejaVu Sans Mono',consolas,'Courier New',monospace\">JavaScript error: Invalid argument. Heading must be between 001 and 360\n",
       "</pre>\n"
      ],
      "text/plain": [
       "JavaScript error: Invalid argument. Heading must be between 001 and 360\n"
      ]
     },
     "metadata": {},
     "output_type": "display_data"
    },
    {
     "data": {
      "text/html": [
       "<pre style=\"white-space:pre;overflow-x:auto;line-height:normal;font-family:Menlo,'DejaVu Sans Mono',consolas,'Courier New',monospace\">JavaScript error: Invalid argument. Heading must be between 001 and 360\n",
       "</pre>\n"
      ],
      "text/plain": [
       "JavaScript error: Invalid argument. Heading must be between 001 and 360\n"
      ]
     },
     "metadata": {},
     "output_type": "display_data"
    },
    {
     "data": {
      "text/html": [
       "<pre style=\"white-space:pre;overflow-x:auto;line-height:normal;font-family:Menlo,'DejaVu Sans Mono',consolas,'Courier New',monospace\">JavaScript error: Invalid argument. Heading must be between 001 and 360\n",
       "</pre>\n"
      ],
      "text/plain": [
       "JavaScript error: Invalid argument. Heading must be between 001 and 360\n"
      ]
     },
     "metadata": {},
     "output_type": "display_data"
    },
    {
     "name": "stdout",
     "output_type": "stream",
     "text": [
      "---------------------------------\n",
      "| rollout/           |          |\n",
      "|    ep_len_mean     | 1e+03    |\n",
      "|    ep_rew_mean     | -110     |\n",
      "| time/              |          |\n",
      "|    fps             | 18       |\n",
      "|    iterations      | 1        |\n",
      "|    time_elapsed    | 108      |\n",
      "|    total_timesteps | 2048     |\n",
      "---------------------------------\n"
     ]
    },
    {
     "data": {
      "text/html": [
       "<pre style=\"white-space:pre;overflow-x:auto;line-height:normal;font-family:Menlo,'DejaVu Sans Mono',consolas,'Courier New',monospace\">JavaScript error: Invalid argument. Heading must be between 001 and 360\n",
       "</pre>\n"
      ],
      "text/plain": [
       "JavaScript error: Invalid argument. Heading must be between 001 and 360\n"
      ]
     },
     "metadata": {},
     "output_type": "display_data"
    },
    {
     "data": {
      "text/html": [
       "<pre style=\"white-space:pre;overflow-x:auto;line-height:normal;font-family:Menlo,'DejaVu Sans Mono',consolas,'Courier New',monospace\">JavaScript error: Invalid argument. Heading must be between 001 and 360\n",
       "</pre>\n"
      ],
      "text/plain": [
       "JavaScript error: Invalid argument. Heading must be between 001 and 360\n"
      ]
     },
     "metadata": {},
     "output_type": "display_data"
    },
    {
     "data": {
      "text/html": [
       "<pre style=\"white-space:pre;overflow-x:auto;line-height:normal;font-family:Menlo,'DejaVu Sans Mono',consolas,'Courier New',monospace\">JavaScript error: Invalid argument. Heading must be between 001 and 360\n",
       "</pre>\n"
      ],
      "text/plain": [
       "JavaScript error: Invalid argument. Heading must be between 001 and 360\n"
      ]
     },
     "metadata": {},
     "output_type": "display_data"
    },
    {
     "data": {
      "text/html": [
       "<pre style=\"white-space:pre;overflow-x:auto;line-height:normal;font-family:Menlo,'DejaVu Sans Mono',consolas,'Courier New',monospace\">JavaScript error: Invalid argument. Heading must be between 001 and 360\n",
       "</pre>\n"
      ],
      "text/plain": [
       "JavaScript error: Invalid argument. Heading must be between 001 and 360\n"
      ]
     },
     "metadata": {},
     "output_type": "display_data"
    },
    {
     "data": {
      "text/html": [
       "<pre style=\"white-space:pre;overflow-x:auto;line-height:normal;font-family:Menlo,'DejaVu Sans Mono',consolas,'Courier New',monospace\">JavaScript error: Invalid argument. Heading must be between 001 and 360\n",
       "</pre>\n"
      ],
      "text/plain": [
       "JavaScript error: Invalid argument. Heading must be between 001 and 360\n"
      ]
     },
     "metadata": {},
     "output_type": "display_data"
    },
    {
     "data": {
      "text/html": [
       "<pre style=\"white-space:pre;overflow-x:auto;line-height:normal;font-family:Menlo,'DejaVu Sans Mono',consolas,'Courier New',monospace\">JavaScript error: Invalid argument. Heading must be between 001 and 360\n",
       "</pre>\n"
      ],
      "text/plain": [
       "JavaScript error: Invalid argument. Heading must be between 001 and 360\n"
      ]
     },
     "metadata": {},
     "output_type": "display_data"
    },
    {
     "data": {
      "text/html": [
       "<pre style=\"white-space:pre;overflow-x:auto;line-height:normal;font-family:Menlo,'DejaVu Sans Mono',consolas,'Courier New',monospace\">JavaScript error: Invalid argument. Heading must be between 001 and 360\n",
       "</pre>\n"
      ],
      "text/plain": [
       "JavaScript error: Invalid argument. Heading must be between 001 and 360\n"
      ]
     },
     "metadata": {},
     "output_type": "display_data"
    },
    {
     "data": {
      "text/html": [
       "<pre style=\"white-space:pre;overflow-x:auto;line-height:normal;font-family:Menlo,'DejaVu Sans Mono',consolas,'Courier New',monospace\">JavaScript error: Invalid argument. Heading must be between 001 and 360\n",
       "</pre>\n"
      ],
      "text/plain": [
       "JavaScript error: Invalid argument. Heading must be between 001 and 360\n"
      ]
     },
     "metadata": {},
     "output_type": "display_data"
    },
    {
     "data": {
      "text/html": [
       "<pre style=\"white-space:pre;overflow-x:auto;line-height:normal;font-family:Menlo,'DejaVu Sans Mono',consolas,'Courier New',monospace\">JavaScript error: Invalid argument. Heading must be between 001 and 360\n",
       "</pre>\n"
      ],
      "text/plain": [
       "JavaScript error: Invalid argument. Heading must be between 001 and 360\n"
      ]
     },
     "metadata": {},
     "output_type": "display_data"
    },
    {
     "name": "stdout",
     "output_type": "stream",
     "text": [
      "-----------------------------------------\n",
      "| rollout/                |             |\n",
      "|    ep_len_mean          | 1e+03       |\n",
      "|    ep_rew_mean          | -110        |\n",
      "| time/                   |             |\n",
      "|    fps                  | 19          |\n",
      "|    iterations           | 2           |\n",
      "|    time_elapsed         | 208         |\n",
      "|    total_timesteps      | 4096        |\n",
      "| train/                  |             |\n",
      "|    approx_kl            | 0.015014289 |\n",
      "|    clip_fraction        | 0.202       |\n",
      "|    clip_range           | 0.2         |\n",
      "|    entropy_loss         | -10.9       |\n",
      "|    explained_variance   | -0.000278   |\n",
      "|    learning_rate        | 0.0003      |\n",
      "|    loss                 | 32.6        |\n",
      "|    n_updates            | 10          |\n",
      "|    policy_gradient_loss | -0.0132     |\n",
      "|    value_loss           | 327         |\n",
      "-----------------------------------------\n"
     ]
    },
    {
     "data": {
      "text/html": [
       "<pre style=\"white-space:pre;overflow-x:auto;line-height:normal;font-family:Menlo,'DejaVu Sans Mono',consolas,'Courier New',monospace\">JavaScript error: Invalid argument. Heading must be between 001 and 360\n",
       "</pre>\n"
      ],
      "text/plain": [
       "JavaScript error: Invalid argument. Heading must be between 001 and 360\n"
      ]
     },
     "metadata": {},
     "output_type": "display_data"
    },
    {
     "data": {
      "text/html": [
       "<pre style=\"white-space:pre;overflow-x:auto;line-height:normal;font-family:Menlo,'DejaVu Sans Mono',consolas,'Courier New',monospace\">JavaScript error: Invalid argument. Heading must be between 001 and 360\n",
       "</pre>\n"
      ],
      "text/plain": [
       "JavaScript error: Invalid argument. Heading must be between 001 and 360\n"
      ]
     },
     "metadata": {},
     "output_type": "display_data"
    },
    {
     "data": {
      "text/html": [
       "<pre style=\"white-space:pre;overflow-x:auto;line-height:normal;font-family:Menlo,'DejaVu Sans Mono',consolas,'Courier New',monospace\">JavaScript error: Invalid argument. Heading must be between 001 and 360\n",
       "</pre>\n"
      ],
      "text/plain": [
       "JavaScript error: Invalid argument. Heading must be between 001 and 360\n"
      ]
     },
     "metadata": {},
     "output_type": "display_data"
    },
    {
     "data": {
      "text/html": [
       "<pre style=\"white-space:pre;overflow-x:auto;line-height:normal;font-family:Menlo,'DejaVu Sans Mono',consolas,'Courier New',monospace\">JavaScript error: Invalid argument. Heading must be between 001 and 360\n",
       "</pre>\n"
      ],
      "text/plain": [
       "JavaScript error: Invalid argument. Heading must be between 001 and 360\n"
      ]
     },
     "metadata": {},
     "output_type": "display_data"
    },
    {
     "data": {
      "text/html": [
       "<pre style=\"white-space:pre;overflow-x:auto;line-height:normal;font-family:Menlo,'DejaVu Sans Mono',consolas,'Courier New',monospace\">JavaScript error: Invalid argument. Heading must be between 001 and 360\n",
       "</pre>\n"
      ],
      "text/plain": [
       "JavaScript error: Invalid argument. Heading must be between 001 and 360\n"
      ]
     },
     "metadata": {},
     "output_type": "display_data"
    },
    {
     "data": {
      "text/html": [
       "<pre style=\"white-space:pre;overflow-x:auto;line-height:normal;font-family:Menlo,'DejaVu Sans Mono',consolas,'Courier New',monospace\">JavaScript error: Invalid argument. Heading must be between 001 and 360\n",
       "</pre>\n"
      ],
      "text/plain": [
       "JavaScript error: Invalid argument. Heading must be between 001 and 360\n"
      ]
     },
     "metadata": {},
     "output_type": "display_data"
    },
    {
     "data": {
      "text/html": [
       "<pre style=\"white-space:pre;overflow-x:auto;line-height:normal;font-family:Menlo,'DejaVu Sans Mono',consolas,'Courier New',monospace\">JavaScript error: Invalid argument. Heading must be between 001 and 360\n",
       "</pre>\n"
      ],
      "text/plain": [
       "JavaScript error: Invalid argument. Heading must be between 001 and 360\n"
      ]
     },
     "metadata": {},
     "output_type": "display_data"
    },
    {
     "data": {
      "text/html": [
       "<pre style=\"white-space:pre;overflow-x:auto;line-height:normal;font-family:Menlo,'DejaVu Sans Mono',consolas,'Courier New',monospace\">JavaScript error: Invalid argument. Heading must be between 001 and 360\n",
       "</pre>\n"
      ],
      "text/plain": [
       "JavaScript error: Invalid argument. Heading must be between 001 and 360\n"
      ]
     },
     "metadata": {},
     "output_type": "display_data"
    },
    {
     "data": {
      "text/html": [
       "<pre style=\"white-space:pre;overflow-x:auto;line-height:normal;font-family:Menlo,'DejaVu Sans Mono',consolas,'Courier New',monospace\">JavaScript error: Invalid argument. Heading must be between 001 and 360\n",
       "</pre>\n"
      ],
      "text/plain": [
       "JavaScript error: Invalid argument. Heading must be between 001 and 360\n"
      ]
     },
     "metadata": {},
     "output_type": "display_data"
    },
    {
     "data": {
      "text/html": [
       "<pre style=\"white-space:pre;overflow-x:auto;line-height:normal;font-family:Menlo,'DejaVu Sans Mono',consolas,'Courier New',monospace\">JavaScript error: Invalid argument. Heading must be between 001 and 360\n",
       "</pre>\n"
      ],
      "text/plain": [
       "JavaScript error: Invalid argument. Heading must be between 001 and 360\n"
      ]
     },
     "metadata": {},
     "output_type": "display_data"
    },
    {
     "name": "stdout",
     "output_type": "stream",
     "text": [
      "-----------------------------------------\n",
      "| rollout/                |             |\n",
      "|    ep_len_mean          | 1e+03       |\n",
      "|    ep_rew_mean          | -77.1       |\n",
      "| time/                   |             |\n",
      "|    fps                  | 19          |\n",
      "|    iterations           | 3           |\n",
      "|    time_elapsed         | 310         |\n",
      "|    total_timesteps      | 6144        |\n",
      "| train/                  |             |\n",
      "|    approx_kl            | 0.018873293 |\n",
      "|    clip_fraction        | 0.247       |\n",
      "|    clip_range           | 0.2         |\n",
      "|    entropy_loss         | -10.9       |\n",
      "|    explained_variance   | 0.00176     |\n",
      "|    learning_rate        | 0.0003      |\n",
      "|    loss                 | 88.5        |\n",
      "|    n_updates            | 20          |\n",
      "|    policy_gradient_loss | -0.00893    |\n",
      "|    value_loss           | 326         |\n",
      "-----------------------------------------\n"
     ]
    },
    {
     "data": {
      "text/html": [
       "<pre style=\"white-space:pre;overflow-x:auto;line-height:normal;font-family:Menlo,'DejaVu Sans Mono',consolas,'Courier New',monospace\">JavaScript error: Invalid argument. Heading must be between 001 and 360\n",
       "</pre>\n"
      ],
      "text/plain": [
       "JavaScript error: Invalid argument. Heading must be between 001 and 360\n"
      ]
     },
     "metadata": {},
     "output_type": "display_data"
    },
    {
     "data": {
      "text/html": [
       "<pre style=\"white-space:pre;overflow-x:auto;line-height:normal;font-family:Menlo,'DejaVu Sans Mono',consolas,'Courier New',monospace\">JavaScript error: Invalid argument. Heading must be between 001 and 360\n",
       "</pre>\n"
      ],
      "text/plain": [
       "JavaScript error: Invalid argument. Heading must be between 001 and 360\n"
      ]
     },
     "metadata": {},
     "output_type": "display_data"
    },
    {
     "data": {
      "text/html": [
       "<pre style=\"white-space:pre;overflow-x:auto;line-height:normal;font-family:Menlo,'DejaVu Sans Mono',consolas,'Courier New',monospace\">JavaScript error: Invalid argument. Heading must be between 001 and 360\n",
       "</pre>\n"
      ],
      "text/plain": [
       "JavaScript error: Invalid argument. Heading must be between 001 and 360\n"
      ]
     },
     "metadata": {},
     "output_type": "display_data"
    },
    {
     "data": {
      "text/html": [
       "<pre style=\"white-space:pre;overflow-x:auto;line-height:normal;font-family:Menlo,'DejaVu Sans Mono',consolas,'Courier New',monospace\">JavaScript error: Invalid argument. Heading must be between 001 and 360\n",
       "</pre>\n"
      ],
      "text/plain": [
       "JavaScript error: Invalid argument. Heading must be between 001 and 360\n"
      ]
     },
     "metadata": {},
     "output_type": "display_data"
    },
    {
     "data": {
      "text/html": [
       "<pre style=\"white-space:pre;overflow-x:auto;line-height:normal;font-family:Menlo,'DejaVu Sans Mono',consolas,'Courier New',monospace\">JavaScript error: Invalid argument. Heading must be between 001 and 360\n",
       "</pre>\n"
      ],
      "text/plain": [
       "JavaScript error: Invalid argument. Heading must be between 001 and 360\n"
      ]
     },
     "metadata": {},
     "output_type": "display_data"
    },
    {
     "data": {
      "text/html": [
       "<pre style=\"white-space:pre;overflow-x:auto;line-height:normal;font-family:Menlo,'DejaVu Sans Mono',consolas,'Courier New',monospace\">JavaScript error: Invalid argument. Heading must be between 001 and 360\n",
       "</pre>\n"
      ],
      "text/plain": [
       "JavaScript error: Invalid argument. Heading must be between 001 and 360\n"
      ]
     },
     "metadata": {},
     "output_type": "display_data"
    },
    {
     "data": {
      "text/html": [
       "<pre style=\"white-space:pre;overflow-x:auto;line-height:normal;font-family:Menlo,'DejaVu Sans Mono',consolas,'Courier New',monospace\">JavaScript error: Invalid argument. Heading must be between 001 and 360\n",
       "</pre>\n"
      ],
      "text/plain": [
       "JavaScript error: Invalid argument. Heading must be between 001 and 360\n"
      ]
     },
     "metadata": {},
     "output_type": "display_data"
    },
    {
     "data": {
      "text/html": [
       "<pre style=\"white-space:pre;overflow-x:auto;line-height:normal;font-family:Menlo,'DejaVu Sans Mono',consolas,'Courier New',monospace\">JavaScript error: Invalid argument. Heading must be between 001 and 360\n",
       "</pre>\n"
      ],
      "text/plain": [
       "JavaScript error: Invalid argument. Heading must be between 001 and 360\n"
      ]
     },
     "metadata": {},
     "output_type": "display_data"
    },
    {
     "data": {
      "text/html": [
       "<pre style=\"white-space:pre;overflow-x:auto;line-height:normal;font-family:Menlo,'DejaVu Sans Mono',consolas,'Courier New',monospace\">JavaScript error: Invalid argument. Heading must be between 001 and 360\n",
       "</pre>\n"
      ],
      "text/plain": [
       "JavaScript error: Invalid argument. Heading must be between 001 and 360\n"
      ]
     },
     "metadata": {},
     "output_type": "display_data"
    },
    {
     "data": {
      "text/html": [
       "<pre style=\"white-space:pre;overflow-x:auto;line-height:normal;font-family:Menlo,'DejaVu Sans Mono',consolas,'Courier New',monospace\">JavaScript error: Invalid argument. Heading must be between 001 and 360\n",
       "</pre>\n"
      ],
      "text/plain": [
       "JavaScript error: Invalid argument. Heading must be between 001 and 360\n"
      ]
     },
     "metadata": {},
     "output_type": "display_data"
    },
    {
     "data": {
      "text/html": [
       "<pre style=\"white-space:pre;overflow-x:auto;line-height:normal;font-family:Menlo,'DejaVu Sans Mono',consolas,'Courier New',monospace\">JavaScript error: Invalid argument. Heading must be between 001 and 360\n",
       "</pre>\n"
      ],
      "text/plain": [
       "JavaScript error: Invalid argument. Heading must be between 001 and 360\n"
      ]
     },
     "metadata": {},
     "output_type": "display_data"
    },
    {
     "data": {
      "text/html": [
       "<pre style=\"white-space:pre;overflow-x:auto;line-height:normal;font-family:Menlo,'DejaVu Sans Mono',consolas,'Courier New',monospace\">JavaScript error: Invalid argument. Heading must be between 001 and 360\n",
       "</pre>\n"
      ],
      "text/plain": [
       "JavaScript error: Invalid argument. Heading must be between 001 and 360\n"
      ]
     },
     "metadata": {},
     "output_type": "display_data"
    },
    {
     "name": "stdout",
     "output_type": "stream",
     "text": [
      "----------------------------------------\n",
      "| rollout/                |            |\n",
      "|    ep_len_mean          | 1e+03      |\n",
      "|    ep_rew_mean          | -86.5      |\n",
      "| time/                   |            |\n",
      "|    fps                  | 19         |\n",
      "|    iterations           | 4          |\n",
      "|    time_elapsed         | 418        |\n",
      "|    total_timesteps      | 8192       |\n",
      "| train/                  |            |\n",
      "|    approx_kl            | 0.01886699 |\n",
      "|    clip_fraction        | 0.17       |\n",
      "|    clip_range           | 0.2        |\n",
      "|    entropy_loss         | -10.9      |\n",
      "|    explained_variance   | -0.000677  |\n",
      "|    learning_rate        | 0.0003     |\n",
      "|    loss                 | 304        |\n",
      "|    n_updates            | 30         |\n",
      "|    policy_gradient_loss | -0.0124    |\n",
      "|    value_loss           | 164        |\n",
      "----------------------------------------\n"
     ]
    },
    {
     "data": {
      "text/html": [
       "<pre style=\"white-space:pre;overflow-x:auto;line-height:normal;font-family:Menlo,'DejaVu Sans Mono',consolas,'Courier New',monospace\">JavaScript error: Invalid argument. Heading must be between 001 and 360\n",
       "</pre>\n"
      ],
      "text/plain": [
       "JavaScript error: Invalid argument. Heading must be between 001 and 360\n"
      ]
     },
     "metadata": {},
     "output_type": "display_data"
    },
    {
     "data": {
      "text/html": [
       "<pre style=\"white-space:pre;overflow-x:auto;line-height:normal;font-family:Menlo,'DejaVu Sans Mono',consolas,'Courier New',monospace\">JavaScript error: Invalid argument. Heading must be between 001 and 360\n",
       "</pre>\n"
      ],
      "text/plain": [
       "JavaScript error: Invalid argument. Heading must be between 001 and 360\n"
      ]
     },
     "metadata": {},
     "output_type": "display_data"
    },
    {
     "data": {
      "text/html": [
       "<pre style=\"white-space:pre;overflow-x:auto;line-height:normal;font-family:Menlo,'DejaVu Sans Mono',consolas,'Courier New',monospace\">JavaScript error: Invalid argument. Heading must be between 001 and 360\n",
       "</pre>\n"
      ],
      "text/plain": [
       "JavaScript error: Invalid argument. Heading must be between 001 and 360\n"
      ]
     },
     "metadata": {},
     "output_type": "display_data"
    },
    {
     "data": {
      "text/html": [
       "<pre style=\"white-space:pre;overflow-x:auto;line-height:normal;font-family:Menlo,'DejaVu Sans Mono',consolas,'Courier New',monospace\">JavaScript error: Invalid argument. Heading must be between 001 and 360\n",
       "</pre>\n"
      ],
      "text/plain": [
       "JavaScript error: Invalid argument. Heading must be between 001 and 360\n"
      ]
     },
     "metadata": {},
     "output_type": "display_data"
    },
    {
     "data": {
      "text/html": [
       "<pre style=\"white-space:pre;overflow-x:auto;line-height:normal;font-family:Menlo,'DejaVu Sans Mono',consolas,'Courier New',monospace\">JavaScript error: Invalid argument. Heading must be between 001 and 360\n",
       "</pre>\n"
      ],
      "text/plain": [
       "JavaScript error: Invalid argument. Heading must be between 001 and 360\n"
      ]
     },
     "metadata": {},
     "output_type": "display_data"
    },
    {
     "data": {
      "text/html": [
       "<pre style=\"white-space:pre;overflow-x:auto;line-height:normal;font-family:Menlo,'DejaVu Sans Mono',consolas,'Courier New',monospace\">JavaScript error: Invalid argument. Heading must be between 001 and 360\n",
       "</pre>\n"
      ],
      "text/plain": [
       "JavaScript error: Invalid argument. Heading must be between 001 and 360\n"
      ]
     },
     "metadata": {},
     "output_type": "display_data"
    }
   ],
   "source": [
    "# ⏱️ Estimated runtime: 5-10 minutes (depends on your machine)\n",
    "# Progress bar will show ETA during training\n",
    "\n",
    "# Train for 10k steps\n",
    "model.learn(total_timesteps=10000, progress_bar=True)\n",
    "\n",
    "print(\"\\nTraining complete!\")"
   ]
  },
  {
   "cell_type": "markdown",
   "metadata": {},
   "source": [
    "## Section 3: Evaluation with Visualizations\n",
    "\n",
    "Let's evaluate the trained agent and visualize its performance."
   ]
  },
  {
   "cell_type": "code",
   "execution_count": null,
   "metadata": {},
   "outputs": [
    {
     "name": "stdout",
     "output_type": "stream",
     "text": [
      "Evaluating trained agent...\n",
      "\n",
      "Episode 1: reward=18.00, steps=200\n",
      "Episode 2: reward=18.00, steps=200\n",
      "Episode 3: reward=18.00, steps=200\n",
      "Episode 4: reward=18.00, steps=200\n",
      "Episode 5: reward=18.00, steps=200\n",
      "\n",
      "Evaluation complete!\n",
      "\n",
      "================================================================================\n",
      "METRICS SUMMARY (5 episodes)\n",
      "================================================================================\n",
      "\n",
      "Success Rate:        0.00% ± 0.00%\n",
      "Violations:          0.00 ± 0.00\n",
      "Collisions:          0.00 ± 0.00\n",
      "Throughput:          0.00 ± 0.00 aircraft/hour\n",
      "Avg Exit Time:       0.0 ± 0.0s\n",
      "Command Efficiency:  0.00 ± 0.00 commands/aircraft\n",
      "Episode Length:      200 ± 0 steps\n",
      "Total Reward:        18.00 ± 0.00\n",
      "\n",
      "================================================================================\n"
     ]
    }
   ],
   "source": [
    "def evaluate_agent(model, env, n_episodes=5):\n",
    "    \"\"\"Evaluate agent over multiple episodes.\"\"\"\n",
    "    tracker = MetricsTracker()\n",
    "    \n",
    "    for episode in range(n_episodes):\n",
    "        obs, info = env.reset()\n",
    "        tracker.start_episode()\n",
    "        \n",
    "        done = False\n",
    "        episode_reward = 0\n",
    "        steps = 0\n",
    "        \n",
    "        while not done:\n",
    "            # Get action from model\n",
    "            action, _ = model.predict(obs, deterministic=True)\n",
    "            \n",
    "            # Take step\n",
    "            obs, reward, terminated, truncated, info = env.step(action)\n",
    "            done = terminated or truncated\n",
    "            \n",
    "            episode_reward += reward\n",
    "            steps += 1\n",
    "            tracker.update(reward, info)\n",
    "            \n",
    "            # Safety limit\n",
    "            if steps >= 200:\n",
    "                break\n",
    "        \n",
    "        # End episode tracking\n",
    "        metrics = tracker.end_episode(info.get(\"episode_metrics\", {}))\n",
    "        print(f\"Episode {episode+1}: reward={episode_reward:.2f}, steps={steps}\")\n",
    "    \n",
    "    return tracker\n",
    "\n",
    "print(\"Evaluating trained agent...\\n\")\n",
    "tracker = evaluate_agent(model, env, n_episodes=5)\n",
    "\n",
    "print(\"\\nEvaluation complete!\")\n",
    "tracker.print_summary()"
   ]
  },
  {
   "cell_type": "markdown",
   "metadata": {},
   "source": [
    "### Visualize Training Progress\n",
    "\n",
    "Let's plot some metrics to visualize the agent's performance."
   ]
  },
  {
   "cell_type": "code",
   "execution_count": null,
   "metadata": {},
   "outputs": [
    {
     "data": {
      "image/png": "[encoded data removed]",
      "text/plain": [
       "<Figure size 1200x800 with 4 Axes>"
      ]
     },
     "metadata": {},
     "output_type": "display_data"
    },
    {
     "name": "stdout",
     "output_type": "stream",
     "text": [
      "Visualizations complete!\n"
     ]
    }
   ],
   "source": [
    "# Plot episode metrics\n",
    "episode_rewards = [m.total_reward for m in tracker.episode_metrics]\n",
    "episode_lengths = [m.episode_length for m in tracker.episode_metrics]\n",
    "success_rates = [m.success_rate for m in tracker.episode_metrics]\n",
    "violations = [m.separation_violations for m in tracker.episode_metrics]\n",
    "\n",
    "fig, axes = plt.subplots(2, 2, figsize=(12, 8))\n",
    "\n",
    "# Episode rewards\n",
    "axes[0, 0].plot(episode_rewards, marker='o')\n",
    "axes[0, 0].set_title('Episode Rewards')\n",
    "axes[0, 0].set_xlabel('Episode')\n",
    "axes[0, 0].set_ylabel('Total Reward')\n",
    "axes[0, 0].grid(True)\n",
    "\n",
    "# Episode lengths\n",
    "axes[0, 1].plot(episode_lengths, marker='o', color='orange')\n",
    "axes[0, 1].set_title('Episode Lengths')\n",
    "axes[0, 1].set_xlabel('Episode')\n",
    "axes[0, 1].set_ylabel('Steps')\n",
    "axes[0, 1].grid(True)\n",
    "\n",
    "# Success rates\n",
    "axes[1, 0].plot(success_rates, marker='o', color='green')\n",
    "axes[1, 0].set_title('Success Rates')\n",
    "axes[1, 0].set_xlabel('Episode')\n",
    "axes[1, 0].set_ylabel('Success Rate')\n",
    "axes[1, 0].set_ylim([0, 1])\n",
    "axes[1, 0].grid(True)\n",
    "\n",
    "# Violations\n",
    "axes[1, 1].plot(violations, marker='o', color='red')\n",
    "axes[1, 1].set_title('Separation Violations')\n",
    "axes[1, 1].set_xlabel('Episode')\n",
    "axes[1, 1].set_ylabel('Violations')\n",
    "axes[1, 1].grid(True)\n",
    "\n",
    "plt.tight_layout()\n",
    "plt.show()\n",
    "\n",
    "print(\"Visualizations complete!\")"
   ]
  },
  {
   "cell_type": "markdown",
   "metadata": {},
   "source": [
    "## Section 4: Comparison vs Random Policy\n",
    "\n",
    "Let's compare the trained agent against a random policy baseline."
   ]
  },
  {
   "cell_type": "code",
   "execution_count": null,
   "metadata": {},
   "outputs": [
    {
     "name": "stdout",
     "output_type": "stream",
     "text": [
      "Evaluating random policy...\n",
      "\n",
      "Episode 1: reward=18.00, steps=200\n",
      "Episode 2: reward=18.00, steps=200\n",
      "Episode 3: reward=18.00, steps=200\n",
      "Episode 4: reward=18.00, steps=200\n",
      "Episode 5: reward=18.00, steps=200\n",
      "\n",
      "Random policy evaluation complete!\n",
      "\n",
      "================================================================================\n",
      "METRICS SUMMARY (5 episodes)\n",
      "================================================================================\n",
      "\n",
      "Success Rate:        0.00% ± 0.00%\n",
      "Violations:          0.00 ± 0.00\n",
      "Collisions:          0.00 ± 0.00\n",
      "Throughput:          0.00 ± 0.00 aircraft/hour\n",
      "Avg Exit Time:       0.0 ± 0.0s\n",
      "Command Efficiency:  0.00 ± 0.00 commands/aircraft\n",
      "Episode Length:      200 ± 0 steps\n",
      "Total Reward:        18.00 ± 0.00\n",
      "\n",
      "================================================================================\n"
     ]
    }
   ],
   "source": [
    "def evaluate_random_policy(env, n_episodes=5):\n",
    "    \"\"\"Evaluate random policy.\"\"\"\n",
    "    tracker = MetricsTracker()\n",
    "    \n",
    "    for episode in range(n_episodes):\n",
    "        obs, info = env.reset()\n",
    "        tracker.start_episode()\n",
    "        \n",
    "        done = False\n",
    "        episode_reward = 0\n",
    "        steps = 0\n",
    "        \n",
    "        while not done:\n",
    "            # Random action\n",
    "            action = env.action_space.sample()\n",
    "            \n",
    "            # Take step\n",
    "            obs, reward, terminated, truncated, info = env.step(action)\n",
    "            done = terminated or truncated\n",
    "            \n",
    "            episode_reward += reward\n",
    "            steps += 1\n",
    "            tracker.update(reward, info)\n",
    "            \n",
    "            # Safety limit\n",
    "            if steps >= 200:\n",
    "                break\n",
    "        \n",
    "        metrics = tracker.end_episode(info.get(\"episode_metrics\", {}))\n",
    "        print(f\"Episode {episode+1}: reward={episode_reward:.2f}, steps={steps}\")\n",
    "    \n",
    "    return tracker\n",
    "\n",
    "print(\"Evaluating random policy...\\n\")\n",
    "random_tracker = evaluate_random_policy(env, n_episodes=5)\n",
    "\n",
    "print(\"\\nRandom policy evaluation complete!\")\n",
    "random_tracker.print_summary()"
   ]
  },
  {
   "cell_type": "markdown",
   "metadata": {},
   "source": [
    "### Compare Results"
   ]
  },
  {
   "cell_type": "code",
   "execution_count": null,
   "metadata": {},
   "outputs": [
    {
     "name": "stdout",
     "output_type": "stream",
     "text": [
      "\n",
      "================================================================================\n",
      "COMPARISON: PPO vs Random Policy\n",
      "================================================================================\n",
      "Avg Reward                | PPO: 18.00 | Random: 18.00\n",
      "Avg Success Rate          | PPO: 0.00% | Random: 0.00%\n",
      "Avg Violations            | PPO: 0.00 | Random: 0.00\n",
      "Avg Episode Length        | PPO: 200.00 | Random: 200.00\n",
      "================================================================================\n",
      "\n",
      "Reward Improvement: +0.0%\n",
      "\n",
      "Note: This is a small demo with only 10k training steps.\n",
      "For full training (500k+ steps), expect much better performance!\n"
     ]
    }
   ],
   "source": [
    "# Get summaries\n",
    "ppo_summary = tracker.get_summary()\n",
    "random_summary = random_tracker.get_summary()\n",
    "\n",
    "# Create comparison\n",
    "print(\"\\n\" + \"=\"*80)\n",
    "print(\"COMPARISON: PPO vs Random Policy\")\n",
    "print(\"=\"*80)\n",
    "\n",
    "metrics_to_compare = [\n",
    "    (\"Avg Reward\", \"avg_total_reward\"),\n",
    "    (\"Avg Success Rate\", \"avg_success_rate\"),\n",
    "    (\"Avg Violations\", \"avg_separation_violations\"),\n",
    "    (\"Avg Episode Length\", \"avg_episode_length\"),\n",
    "]\n",
    "\n",
    "for name, key in metrics_to_compare:\n",
    "    ppo_val = ppo_summary.get(key, 0)\n",
    "    random_val = random_summary.get(key, 0)\n",
    "    \n",
    "    if \"rate\" in key.lower():\n",
    "        print(f\"{name:25s} | PPO: {ppo_val:.2%} | Random: {random_val:.2%}\")\n",
    "    else:\n",
    "        print(f\"{name:25s} | PPO: {ppo_val:.2f} | Random: {random_val:.2f}\")\n",
    "\n",
    "print(\"=\"*80)\n",
    "\n",
    "# Calculate improvement\n",
    "reward_improvement = ((ppo_summary.get(\"avg_total_reward\", 0) - \n",
    "                       random_summary.get(\"avg_total_reward\", 0)) / \n",
    "                      abs(random_summary.get(\"avg_total_reward\", 1)) * 100)\n",
    "\n",
    "print(f\"\\nReward Improvement: {reward_improvement:+.1f}%\")\n",
    "print(\"\\nNote: This is a small demo with only 10k training steps.\")\n",
    "print(\"For full training (500k+ steps), expect much better performance!\")"
   ]
  },
  {
   "cell_type": "markdown",
   "metadata": {},
   "source": [
    "## Section 5: Save Model and Results\n",
    "\n",
    "Let's save the trained model and results for later use."
   ]
  },
  {
   "cell_type": "code",
   "execution_count": null,
   "metadata": {},
   "outputs": [
    {
     "name": "stdout",
     "output_type": "stream",
     "text": [
      "Model saved to: ../results/ppo_demo_20251029_172745.zip\n",
      "Results saved to: ../results/results_20251029_172745.json\n",
      "\n",
      "Demo complete!\n"
     ]
    }
   ],
   "source": [
    "import json\n",
    "from datetime import datetime\n",
    "\n",
    "# Helper function to convert numpy types to native Python types for JSON serialization\n",
    "def convert_to_serializable(obj):\n",
    "    \"\"\"Recursively convert numpy types to native Python types.\"\"\"\n",
    "    if isinstance(obj, np.integer):\n",
    "        return int(obj)\n",
    "    elif isinstance(obj, np.floating):\n",
    "        return float(obj)\n",
    "    elif isinstance(obj, np.ndarray):\n",
    "        return obj.tolist()\n",
    "    elif isinstance(obj, dict):\n",
    "        return {key: convert_to_serializable(value) for key, value in obj.items()}\n",
    "    elif isinstance(obj, list):\n",
    "        return [convert_to_serializable(item) for item in obj]\n",
    "    else:\n",
    "        return obj\n",
    "\n",
    "# Create results directory\n",
    "results_dir = Path(\"../results\")\n",
    "results_dir.mkdir(exist_ok=True)\n",
    "\n",
    "timestamp = datetime.now().strftime(\"%Y%m%d_%H%M%S\")\n",
    "\n",
    "# Save model\n",
    "model_path = results_dir / f\"ppo_demo_{timestamp}.zip\"\n",
    "model.save(str(model_path))\n",
    "print(f\"Model saved to: {model_path}\")\n",
    "\n",
    "# Save results\n",
    "results = {\n",
    "    \"timestamp\": timestamp,\n",
    "    \"training_steps\": 10000,\n",
    "    \"ppo_summary\": ppo_summary,\n",
    "    \"random_summary\": random_summary,\n",
    "    \"config\": {\n",
    "        \"max_aircraft\": 5,\n",
    "        \"airport\": \"KLAS\",\n",
    "        \"episode_length\": 600,\n",
    "    },\n",
    "}\n",
    "\n",
    "# Convert numpy types to native Python types before JSON serialization\n",
    "results = convert_to_serializable(results)\n",
    "\n",
    "results_path = results_dir / f\"results_{timestamp}.json\"\n",
    "with open(results_path, \"w\") as f:\n",
    "    json.dump(results, f, indent=2)\n",
    "\n",
    "print(f\"Results saved to: {results_path}\")\n",
    "print(\"\\nDemo complete!\")"
   ]
  },
  {
   "cell_type": "markdown",
   "metadata": {},
   "source": [
    "## Cleanup\n",
    "\n",
    "Don't forget to close the environment to free resources."
   ]
  },
  {
   "cell_type": "code",
   "execution_count": null,
   "metadata": {},
   "outputs": [
    {
     "name": "stdout",
     "output_type": "stream",
     "text": [
      "Environment closed successfully!\n"
     ]
    }
   ],
   "source": [
    "env.close()\n",
    "print(\"Environment closed successfully!\")"
   ]
  },
  {
   "cell_type": "markdown",
   "metadata": {},
   "source": [
    "## ⚠️ Common Pitfalls & Troubleshooting\n",
    "\n",
    "### Problem 1: \"OpenScope server not responding\" or \"Navigation failed with HTTP 503\"\n",
    "**Solution**: Ensure the OpenScope server is running at http://localhost:3003\n",
    "```bash\n",
    "cd ../../../openscope\n",
    "npm start\n",
    "```\n",
    "\n",
    "### Problem 2: Training crashes with \"Browser process exited unexpectedly\"\n",
    "**Solution**: Playwright browsers may not be installed or headless mode is causing issues\n",
    "```bash\n",
    "uv run playwright install chromium\n",
    "# Or try headless=False for debugging\n",
    "```\n",
    "\n",
    "### Problem 3: Training is very slow (>30 minutes for 10k steps)\n",
    "**Causes & Solutions**:\n",
    "- **Timewarp too low**: Increase to `timewarp=10` or higher\n",
    "- **Too many aircraft**: Reduce `max_aircraft=3` for faster episodes\n",
    "- **Headless=False**: Set `headless=True` to disable rendering\n",
    "\n",
    "### Problem 4: Poor performance after training (random-level rewards)\n",
    "**Causes**:\n",
    "- **Insufficient training**: 10k steps is just a demo - use 500k+ for real performance\n",
    "- **Action masking not working**: Check that `ActionMasker` wrapper is applied\n",
    "- **Episode too short**: Increase `episode_length` to give agent more learning opportunities\n",
    "\n",
    "### Problem 5: \"Action space mismatch\" or shape errors\n",
    "**Solution**: Ensure environment is wrapped with ActionMasker AFTER creation:\n",
    "```python\n",
    "env = PlaywrightEnv(...)  # Create first\n",
    "env = ActionMasker(env, mask_fn)  # Then wrap\n",
    "```\n",
    "\n",
    "### Problem 6: Notebook cells run out of order\n",
    "**Solution**: Always run cells sequentially from top to bottom. Use \"Restart Kernel & Run All\" if unsure.\n",
    "\n",
    "### Debugging Tips:\n",
    "1. **Check logs**: Look for error messages in the output\n",
    "2. **Reduce complexity**: Start with `max_aircraft=2` to isolate issues\n",
    "3. **Test environment**: Run cell-4 alone to verify environment creation works\n",
    "4. **Monitor GPU**: Use `nvidia-smi` to check GPU utilization (if using GPU)\n",
    "\n",
    "**Need more help?** Check the main README or open an issue on GitHub."
   ]
  },
  {
   "cell_type": "markdown",
   "metadata": {},
   "source": [
    "## Next Steps\n",
    "\n",
    "This demo showed basic PPO training with action masking over 10k steps. For production training:\n",
    "\n",
    "1. **Scale up training**: Use `training/ppo_trainer.py` for 500k+ steps\n",
    "2. **Use parallel environments**: 8+ environments for faster training\n",
    "3. **Enable curriculum learning**: Gradually increase difficulty\n",
    "4. **Track with WandB**: Monitor training progress in real-time\n",
    "5. **Evaluate on benchmarks**: Use `experiments/benchmark.py` for standardized evaluation\n",
    "\n",
    "See the main README for full training instructions!"
   ]
  }
 ],
 "metadata": {
  "kernelspec": {
   "display_name": ".venv",
   "language": "python",
   "name": "python3"
  },
  "language_info": {
   "codemirror_mode": {
    "name": "ipython",
    "version": 3
   },
   "file_extension": ".py",
   "mimetype": "text/x-python",
   "name": "python",
   "nbconvert_exporter": "python",
   "pygments_lexer": "ipython3",
   "version": "3.13.2"
  }
 },
 "nbformat": 4,
 "nbformat_minor": 4
}
