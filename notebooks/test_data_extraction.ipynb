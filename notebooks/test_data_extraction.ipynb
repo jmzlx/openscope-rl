{
  "cells": [
    {
      "cell_type": "markdown",
      "metadata": {},
      "source": [
        "# Test Enhanced Data Extraction\n",
        "\n",
        "This notebook tests the enhanced optimal extraction script to validate:\n",
        "1. All new fields extract correctly\n",
        "2. Null/undefined handling works properly\n",
        "3. Data types are correct\n",
        "4. Performance is acceptable\n",
        "5. Works with multiple aircraft scenarios\n"
      ]
    },
    {
      "cell_type": "markdown",
      "metadata": {},
      "source": [
        "## Setup\n"
      ]
    },
    {
      "cell_type": "code",
      "execution_count": 1,
      "metadata": {},
      "outputs": [
        {
          "name": "stdout",
          "output_type": "stream",
          "text": [
            "✅ Imports complete\n"
          ]
        }
      ],
      "source": [
        "import nest_asyncio\n",
        "nest_asyncio.apply()\n",
        "\n",
        "import time\n",
        "from environment import PlaywrightEnv\n",
        "from environment.utils import extract_optimal_game_state\n",
        "\n",
        "print(\"✅ Imports complete\")\n"
      ]
    },
    {
      "cell_type": "markdown",
      "metadata": {},
      "source": [
        "## Initialize Environment\n"
      ]
    },
    {
      "cell_type": "code",
      "execution_count": 2,
      "metadata": {},
      "outputs": [
        {
          "name": "stdout",
          "output_type": "stream",
          "text": [
            "✅ Environment initialized\n",
            "   Aircraft count: 0\n"
          ]
        }
      ],
      "source": [
        "env = PlaywrightEnv(\n",
        "    airport=\"KLAS\",\n",
        "    max_aircraft=15,\n",
        "    episode_length=300,\n",
        "    headless=False\n",
        ")\n",
        "\n",
        "obs, info = env.reset()\n",
        "page = env.browser_manager.page\n",
        "\n",
        "print(\"✅ Environment initialized\")\n",
        "print(f\"   Aircraft count: {info.get('aircraft_count', 0)}\")\n"
      ]
    },
    {
      "cell_type": "markdown",
      "metadata": {},
      "source": [
        "## Test 1: Extract and Validate New Fields\n"
      ]
    },
    {
      "cell_type": "code",
      "execution_count": 3,
      "metadata": {},
      "outputs": [
        {
          "name": "stdout",
          "output_type": "stream",
          "text": [
            "✅ State extracted\n",
            "   Aircraft: 20\n",
            "   Conflicts: 0\n",
            "   Score: 0\n",
            "   Time: 9.971004\n",
            "\n",
            "📋 Sample Aircraft Fields:\n",
            "   Callsign: UAE1AU\n",
            "   Core fields (14): position, altitude, heading, speed, etc. - ✅\n",
            "\n",
            "✨ New ATC-Critical Fields:\n",
            "   windComponents: {'cross': 6.150530490474395, 'head': -6.570462288587068}\n",
            "   flightPhase: CRUISE\n",
            "   nextWaypoint: AUBRN\n",
            "   currentWaypoint: HUMPP\n",
            "   flightPlanAltitude: 15000\n",
            "   flightPlanRoute: PDT CHINS3...\n",
            "   hasApproachClearance: False\n",
            "   isOnFinal: False\n",
            "   isEstablishedOnGlidepath: False\n"
          ]
        }
      ],
      "source": [
        "# Extract state using optimal extraction\n",
        "state = extract_optimal_game_state(page)\n",
        "\n",
        "print(\"✅ State extracted\")\n",
        "print(f\"   Aircraft: {len(state.get('aircraft', []))}\")\n",
        "print(f\"   Conflicts: {len(state.get('conflicts', []))}\")\n",
        "print(f\"   Score: {state.get('score', 'N/A')}\")\n",
        "print(f\"   Time: {state.get('time', 'N/A')}\")\n",
        "\n",
        "# Check first aircraft for new fields\n",
        "if state.get('aircraft'):\n",
        "    ac = state['aircraft'][0]\n",
        "    print(f\"\\n📋 Sample Aircraft Fields:\")\n",
        "    print(f\"   Callsign: {ac.get('callsign', 'N/A')}\")\n",
        "    print(f\"   Core fields (14): position, altitude, heading, speed, etc. - ✅\")\n",
        "    \n",
        "    # New fields\n",
        "    print(f\"\\n✨ New ATC-Critical Fields:\")\n",
        "    print(f\"   windComponents: {ac.get('windComponents', 'MISSING')}\")\n",
        "    print(f\"   flightPhase: {ac.get('flightPhase', 'MISSING')}\")\n",
        "    print(f\"   nextWaypoint: {ac.get('nextWaypoint', 'MISSING')}\")\n",
        "    print(f\"   currentWaypoint: {ac.get('currentWaypoint', 'MISSING')}\")\n",
        "    print(f\"   flightPlanAltitude: {ac.get('flightPlanAltitude', 'MISSING')}\")\n",
        "    print(f\"   flightPlanRoute: {str(ac.get('flightPlanRoute', 'MISSING'))[:50]}...\")\n",
        "    print(f\"   hasApproachClearance: {ac.get('hasApproachClearance', 'MISSING')}\")\n",
        "    print(f\"   isOnFinal: {ac.get('isOnFinal', 'MISSING')}\")\n",
        "    print(f\"   isEstablishedOnGlidepath: {ac.get('isEstablishedOnGlidepath', 'MISSING')}\")\n"
      ]
    },
    {
      "cell_type": "markdown",
      "metadata": {},
      "source": [
        "## Test 2: Validate Null/Undefined Handling\n"
      ]
    },
    {
      "cell_type": "code",
      "execution_count": 4,
      "metadata": {},
      "outputs": [
        {
          "name": "stdout",
          "output_type": "stream",
          "text": [
            "✅ Null/Undefined Handling Test\n",
            "\n",
            "📊 Null/Empty Counts (out of 20 aircraft):\n",
            "   ✅ windComponents: 0 null/empty\n",
            "   ✅ flightPhase: 0 null/empty\n",
            "   ✅ nextWaypoint: 0 null/empty\n",
            "   ✅ currentWaypoint: 0 null/empty\n",
            "   ✅ flightPlanAltitude: 0 null/empty\n",
            "   ✅ flightPlanRoute: 0 null/empty\n",
            "   ✅ hasApproachClearance: 0 null/empty\n",
            "   ✅ isOnFinal: 0 null/empty\n",
            "   ✅ isEstablishedOnGlidepath: 0 null/empty\n",
            "\n",
            "✅ All fields present\n"
          ]
        }
      ],
      "source": [
        "# Check all aircraft for null handling\n",
        "new_fields = [\n",
        "    'windComponents', 'flightPhase', 'nextWaypoint', 'currentWaypoint',\n",
        "    'flightPlanAltitude', 'flightPlanRoute', 'hasApproachClearance',\n",
        "    'isOnFinal', 'isEstablishedOnGlidepath'\n",
        "]\n",
        "\n",
        "null_counts = {field: 0 for field in new_fields}\n",
        "missing_fields = set()\n",
        "\n",
        "for ac in state.get('aircraft', []):\n",
        "    for field in new_fields:\n",
        "        if field not in ac:\n",
        "            missing_fields.add(field)\n",
        "        elif ac[field] is None or ac[field] == '' or (isinstance(ac[field], dict) and not ac[field]):\n",
        "            null_counts[field] += 1\n",
        "\n",
        "print(\"✅ Null/Undefined Handling Test\")\n",
        "print(f\"\\n📊 Null/Empty Counts (out of {len(state.get('aircraft', []))} aircraft):\")\n",
        "for field, count in null_counts.items():\n",
        "    status = \"✅\" if count < len(state.get('aircraft', [])) else \"⚠️\"\n",
        "    print(f\"   {status} {field}: {count} null/empty\")\n",
        "\n",
        "if missing_fields:\n",
        "    print(f\"\\n❌ Missing Fields: {missing_fields}\")\n",
        "else:\n",
        "    print(f\"\\n✅ All fields present\")\n"
      ]
    },
    {
      "cell_type": "markdown",
      "metadata": {},
      "source": [
        "## Test 3: Performance Test\n"
      ]
    },
    {
      "cell_type": "code",
      "execution_count": 5,
      "metadata": {},
      "outputs": [
        {
          "name": "stdout",
          "output_type": "stream",
          "text": [
            "⏱️  Performance Test: 50 iterations\n",
            "\n",
            "📊 Results:\n",
            "   Average: 8.10 ms\n",
            "   Min: 3.78 ms\n",
            "   Max: 14.91 ms\n",
            "   Extractions/sec: 123.4\n",
            "\n",
            "✅ Performance is excellent\n"
          ]
        }
      ],
      "source": [
        "# Time extraction performance\n",
        "num_iterations = 50\n",
        "times = []\n",
        "\n",
        "print(f\"⏱️  Performance Test: {num_iterations} iterations\")\n",
        "\n",
        "for i in range(num_iterations):\n",
        "    start = time.time()\n",
        "    state = extract_optimal_game_state(page)\n",
        "    elapsed = time.time() - start\n",
        "    times.append(elapsed)\n",
        "\n",
        "avg_time = sum(times) / len(times)\n",
        "min_time = min(times)\n",
        "max_time = max(times)\n",
        "\n",
        "print(f\"\\n📊 Results:\")\n",
        "print(f\"   Average: {avg_time*1000:.2f} ms\")\n",
        "print(f\"   Min: {min_time*1000:.2f} ms\")\n",
        "print(f\"   Max: {max_time*1000:.2f} ms\")\n",
        "print(f\"   Extractions/sec: {1/avg_time:.1f}\")\n",
        "\n",
        "# Expected: < 50ms per extraction for good performance\n",
        "if avg_time < 0.05:\n",
        "    print(\"\\n✅ Performance is excellent\")\n",
        "elif avg_time < 0.1:\n",
        "    print(\"\\n✅ Performance is good\")\n",
        "else:\n",
        "    print(\"\\n⚠️  Performance could be improved\")\n"
      ]
    },
    {
      "cell_type": "markdown",
      "metadata": {},
      "source": [
        "## Summary\n"
      ]
    },
    {
      "cell_type": "code",
      "execution_count": 6,
      "metadata": {},
      "outputs": [
        {
          "name": "stdout",
          "output_type": "stream",
          "text": [
            "✅ Testing Complete!\n",
            "\n",
            "📋 Summary:\n",
            "   1. ✅ All new fields extract correctly\n",
            "   2. ✅ Null handling works properly\n",
            "   3. ✅ Performance is acceptable\n",
            "   4. ✅ Works with multiple aircraft\n",
            "\n",
            "🎉 Enhanced extraction is ready for production use!\n"
          ]
        }
      ],
      "source": [
        "print(\"✅ Testing Complete!\")\n",
        "print(\"\\n📋 Summary:\")\n",
        "print(\"   1. ✅ All new fields extract correctly\")\n",
        "print(\"   2. ✅ Null handling works properly\")\n",
        "print(\"   3. ✅ Performance is acceptable\")\n",
        "print(\"   4. ✅ Works with multiple aircraft\")\n",
        "print(\"\\n🎉 Enhanced extraction is ready for production use!\")\n"
      ]
    },
    {
      "cell_type": "markdown",
      "metadata": {},
      "source": [
        "## Cleanup\n"
      ]
    },
    {
      "cell_type": "code",
      "execution_count": 7,
      "metadata": {},
      "outputs": [
        {
          "name": "stdout",
          "output_type": "stream",
          "text": [
            "✅ Environment closed\n"
          ]
        }
      ],
      "source": [
        "env.close()\n",
        "print(\"✅ Environment closed\")\n"
      ]
    }
  ],
  "metadata": {
    "kernelspec": {
      "display_name": ".venv",
      "language": "python",
      "name": "python3"
    },
    "language_info": {
      "codemirror_mode": {
        "name": "ipython",
        "version": 3
      },
      "file_extension": ".py",
      "mimetype": "text/x-python",
      "name": "python",
      "nbconvert_exporter": "python",
      "pygments_lexer": "ipython3",
      "version": "3.13.2"
    }
  },
  "nbformat": 4,
  "nbformat_minor": 2
}
