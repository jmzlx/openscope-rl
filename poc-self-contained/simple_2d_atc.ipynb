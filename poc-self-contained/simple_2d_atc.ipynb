{
 "cells": [
  {
   "cell_type": "markdown",
   "metadata": {},
   "source": [
    "# Simple 2D Air Traffic Control - RL Demo\n",
    "\n",
    "**Train an AI agent to control air traffic in 5 minutes!**\n",
    "\n",
    "This notebook is completely self-contained - no external game server or browser required.\n",
    "\n",
    "## What You'll See\n",
    "\n",
    "1. **Section 1**: Build a 2D ATC environment (aircraft moving in a square airspace)\n",
    "2. **Section 2**: Test the environment with random actions\n",
    "3. **Section 3**: Train an RL agent with PPO (Stable-Baselines3)\n",
    "4. **Section 4**: Watch the trained agent perform\n",
    "\n",
    "## Key Features\n",
    "\n",
    "- ✅ **Simple**: 2D space (x, y position only - no altitude)\n",
    "- ✅ **Fast**: Trains in 5-10 minutes\n",
    "- ✅ **Visual**: See aircraft as they move\n",
    "- ✅ **Educational**: Learn RL concepts quickly\n",
    "\n",
    "## The Task\n",
    "\n",
    "Aircraft enter from the edges of a 20nm x 20nm airspace. Your job:\n",
    "- **Guide them** to exit points on opposite edges\n",
    "- **Avoid conflicts** (aircraft must stay 3nm apart)\n",
    "- **Be efficient** (minimize time to exit)\n",
    "\n",
    "**Action**: Select an aircraft and change its heading\n",
    "\n",
    "**Reward**: +10 for safe exit, -100 for separation loss, -0.1 per timestep"
   ]
  },
  {
   "cell_type": "markdown",
   "metadata": {},
   "source": [
    "---\n",
    "# Section 1: Build the Environment\n",
    "\n",
    "All code is self-contained in this notebook!"
   ]
  },
  {
   "cell_type": "code",
   "execution_count": 1,
   "metadata": {},
   "outputs": [
    {
     "name": "stdout",
     "output_type": "stream",
     "text": [
      "✅ Imports loaded\n"
     ]
    }
   ],
   "source": [
    "# Imports\n",
    "import numpy as np\n",
    "import matplotlib.pyplot as plt\n",
    "import matplotlib.patches as mpatches\n",
    "from matplotlib.patches import Circle, FancyArrow\n",
    "from dataclasses import dataclass\n",
    "from typing import List, Tuple, Optional, Dict, Any\n",
    "import gymnasium as gym\n",
    "from gymnasium import spaces\n",
    "from stable_baselines3 import PPO\n",
    "from stable_baselines3.common.vec_env import DummyVecEnv\n",
    "from stable_baselines3.common.callbacks import BaseCallback\n",
    "from IPython.display import clear_output\n",
    "import time\n",
    "\n",
    "print('✅ Imports loaded')"
   ]
  },
  {
   "cell_type": "code",
   "execution_count": 2,
   "metadata": {},
   "outputs": [
    {
     "name": "stdout",
     "output_type": "stream",
     "text": [
      "✅ Constants defined\n",
      "   Airspace: 20.0nm x 20.0nm\n",
      "   Minimum separation: 3.0nm\n",
      "   Aircraft speed: 4.0nm/step\n"
     ]
    }
   ],
   "source": [
    "# Constants\n",
    "AIRSPACE_SIZE = 20.0  # 20nm x 20nm\n",
    "SEPARATION_MIN = 3.0  # 3 nautical miles minimum separation\n",
    "CONFLICT_BUFFER = 1.0  # Extra buffer for conflict warnings\n",
    "AIRCRAFT_SPEED = 4.0  # 4 nm/step (about 240 knots at 1 step/min)\n",
    "TURN_RATE = 15.0  # 15 degrees per step\n",
    "\n",
    "# Aircraft callsigns\n",
    "CALLSIGNS = [\"AAL123\", \"UAL456\", \"DAL789\", \"SWA101\", \"JBU202\", \n",
    "             \"FFT303\", \"SKW404\", \"ASA505\", \"NKS606\", \"FFT707\"]\n",
    "\n",
    "print('✅ Constants defined')\n",
    "print(f'   Airspace: {AIRSPACE_SIZE}nm x {AIRSPACE_SIZE}nm')\n",
    "print(f'   Minimum separation: {SEPARATION_MIN}nm')\n",
    "print(f'   Aircraft speed: {AIRCRAFT_SPEED}nm/step')"
   ]
  },
  {
   "cell_type": "code",
   "execution_count": 3,
   "metadata": {},
   "outputs": [
    {
     "name": "stdout",
     "output_type": "stream",
     "text": [
      "✅ Aircraft class defined\n"
     ]
    }
   ],
   "source": [
    "@dataclass\n",
    "class Aircraft:\n",
    "    \"\"\"Simple 2D aircraft with position, heading, and target.\"\"\"\n",
    "    callsign: str\n",
    "    x: float  # Position in nm\n",
    "    y: float\n",
    "    heading: float  # Degrees (0=North, 90=East)\n",
    "    target_heading: float\n",
    "    exit_edge: int  # 0=North, 1=East, 2=South, 3=West\n",
    "    \n",
    "    def update(self, dt: float = 1.0):\n",
    "        \"\"\"Update aircraft position and heading.\"\"\"\n",
    "        # Turn towards target heading\n",
    "        heading_diff = (self.target_heading - self.heading + 180) % 360 - 180\n",
    "        turn_amount = np.clip(heading_diff, -TURN_RATE, TURN_RATE)\n",
    "        self.heading = (self.heading + turn_amount) % 360\n",
    "        \n",
    "        # Move forward\n",
    "        heading_rad = np.radians(self.heading)\n",
    "        self.x += AIRCRAFT_SPEED * np.sin(heading_rad) * dt\n",
    "        self.y += AIRCRAFT_SPEED * np.cos(heading_rad) * dt\n",
    "    \n",
    "    def distance_to(self, other: 'Aircraft') -> float:\n",
    "        \"\"\"Calculate distance to another aircraft.\"\"\"\n",
    "        return np.sqrt((self.x - other.x)**2 + (self.y - other.y)**2)\n",
    "    \n",
    "    def has_exited(self) -> bool:\n",
    "        \"\"\"Check if aircraft has left the airspace.\"\"\"\n",
    "        return (abs(self.x) > AIRSPACE_SIZE/2 or \n",
    "                abs(self.y) > AIRSPACE_SIZE/2)\n",
    "    \n",
    "    def is_near_exit(self) -> bool:\n",
    "        \"\"\"Check if aircraft is approaching the correct exit.\"\"\"\n",
    "        # Check if heading towards correct edge and close to it\n",
    "        if self.exit_edge == 0:  # North\n",
    "            return self.y > AIRSPACE_SIZE/2 - 2 and 315 <= self.heading or self.heading <= 45\n",
    "        elif self.exit_edge == 1:  # East\n",
    "            return self.x > AIRSPACE_SIZE/2 - 2 and 45 <= self.heading <= 135\n",
    "        elif self.exit_edge == 2:  # South\n",
    "            return self.y < -AIRSPACE_SIZE/2 + 2 and 135 <= self.heading <= 225\n",
    "        else:  # West\n",
    "            return self.x < -AIRSPACE_SIZE/2 + 2 and 225 <= self.heading <= 315\n",
    "\n",
    "print('✅ Aircraft class defined')"
   ]
  },
  {
   "cell_type": "code",
   "execution_count": 4,
   "metadata": {},
   "outputs": [
    {
     "name": "stdout",
     "output_type": "stream",
     "text": [
      "✅ Simple2DATCEnv class defined\n",
      "   Observation: position, heading, distance to exit\n",
      "   Action: select aircraft + change heading\n",
      "   Reward: +20 for exit, -100 for separation loss, -0.1 per step\n"
     ]
    }
   ],
   "source": [
    "class Simple2DATCEnv(gym.Env):\n",
    "    \"\"\"Simple 2D ATC environment for RL training.\"\"\"\n",
    "    \n",
    "    metadata = {'render_modes': ['human'], 'render_fps': 2}\n",
    "    \n",
    "    def __init__(self, max_aircraft: int = 5, max_steps: int = 100, render_mode: Optional[str] = None):\n",
    "        super().__init__()\n",
    "        \n",
    "        self.max_aircraft = max_aircraft\n",
    "        self.max_steps = max_steps\n",
    "        self.render_mode = render_mode\n",
    "        \n",
    "        # State\n",
    "        self.aircraft: List[Aircraft] = []\n",
    "        self.current_step = 0\n",
    "        self.total_reward = 0\n",
    "        self.separations_lost = 0\n",
    "        self.successful_exits = 0\n",
    "        \n",
    "        # Rendering\n",
    "        self.fig = None\n",
    "        self.ax = None\n",
    "        \n",
    "        # Observation space: for each aircraft: [x, y, heading, target_heading, dx_to_exit, dy_to_exit]\n",
    "        # Plus mask to indicate which slots are active\n",
    "        self.observation_space = spaces.Dict({\n",
    "            'aircraft': spaces.Box(\n",
    "                low=-1.0, high=1.0,\n",
    "                shape=(max_aircraft, 6),\n",
    "                dtype=np.float32\n",
    "            ),\n",
    "            'mask': spaces.Box(\n",
    "                low=0, high=1,\n",
    "                shape=(max_aircraft,),\n",
    "                dtype=np.uint8\n",
    "            )\n",
    "        })\n",
    "        \n",
    "        # Action space: [aircraft_id (0 to max_aircraft), heading_change (-180 to 180 in 15° steps)]\n",
    "        # heading_change: 0=-180°, 1=-165°, ..., 12=0°, ..., 24=180°\n",
    "        self.action_space = spaces.MultiDiscrete([max_aircraft + 1, 25])\n",
    "        \n",
    "    def reset(self, seed=None, options=None):\n",
    "        super().reset(seed=seed)\n",
    "        \n",
    "        self.aircraft = []\n",
    "        self.current_step = 0\n",
    "        self.total_reward = 0\n",
    "        self.separations_lost = 0\n",
    "        self.successful_exits = 0\n",
    "        \n",
    "        # Spawn initial aircraft\n",
    "        num_initial = self.np_random.integers(2, min(4, self.max_aircraft) + 1)\n",
    "        for _ in range(num_initial):\n",
    "            self._spawn_aircraft()\n",
    "        \n",
    "        obs = self._get_observation()\n",
    "        info = self._get_info()\n",
    "        \n",
    "        return obs, info\n",
    "    \n",
    "    def _spawn_aircraft(self):\n",
    "        \"\"\"Spawn a new aircraft at a random edge.\"\"\"\n",
    "        if len(self.aircraft) >= self.max_aircraft:\n",
    "            return\n",
    "        \n",
    "        # Choose entry edge (0=North, 1=East, 2=South, 3=West)\n",
    "        entry_edge = self.np_random.integers(0, 4)\n",
    "        exit_edge = (entry_edge + 2) % 4  # Exit on opposite side\n",
    "        \n",
    "        # Position on entry edge\n",
    "        if entry_edge == 0:  # North\n",
    "            x = self.np_random.uniform(-AIRSPACE_SIZE/2 + 2, AIRSPACE_SIZE/2 - 2)\n",
    "            y = AIRSPACE_SIZE/2\n",
    "            heading = 180  # Face south\n",
    "        elif entry_edge == 1:  # East\n",
    "            x = AIRSPACE_SIZE/2\n",
    "            y = self.np_random.uniform(-AIRSPACE_SIZE/2 + 2, AIRSPACE_SIZE/2 - 2)\n",
    "            heading = 270  # Face west\n",
    "        elif entry_edge == 2:  # South\n",
    "            x = self.np_random.uniform(-AIRSPACE_SIZE/2 + 2, AIRSPACE_SIZE/2 - 2)\n",
    "            y = -AIRSPACE_SIZE/2\n",
    "            heading = 0  # Face north\n",
    "        else:  # West\n",
    "            x = -AIRSPACE_SIZE/2\n",
    "            y = self.np_random.uniform(-AIRSPACE_SIZE/2 + 2, AIRSPACE_SIZE/2 - 2)\n",
    "            heading = 90  # Face east\n",
    "        \n",
    "        callsign = CALLSIGNS[len(self.aircraft) % len(CALLSIGNS)]\n",
    "        \n",
    "        aircraft = Aircraft(\n",
    "            callsign=callsign,\n",
    "            x=x, y=y,\n",
    "            heading=heading,\n",
    "            target_heading=heading,\n",
    "            exit_edge=exit_edge\n",
    "        )\n",
    "        \n",
    "        self.aircraft.append(aircraft)\n",
    "    \n",
    "    def step(self, action):\n",
    "        aircraft_id, heading_change_idx = action\n",
    "        \n",
    "        reward = -0.1  # Small timestep penalty\n",
    "        \n",
    "        # Execute action\n",
    "        if aircraft_id < len(self.aircraft):\n",
    "            # Convert heading_change_idx to degrees: 0=-180, 12=0, 24=180\n",
    "            heading_change = (heading_change_idx - 12) * 15\n",
    "            aircraft = self.aircraft[aircraft_id]\n",
    "            aircraft.target_heading = (aircraft.heading + heading_change) % 360\n",
    "        \n",
    "        # Update all aircraft\n",
    "        for ac in self.aircraft:\n",
    "            ac.update()\n",
    "        \n",
    "        # Check for separation violations\n",
    "        for i, ac1 in enumerate(self.aircraft):\n",
    "            for ac2 in self.aircraft[i+1:]:\n",
    "                dist = ac1.distance_to(ac2)\n",
    "                if dist < SEPARATION_MIN:\n",
    "                    reward -= 100  # Large penalty for separation loss\n",
    "                    self.separations_lost += 1\n",
    "                elif dist < SEPARATION_MIN + CONFLICT_BUFFER:\n",
    "                    reward -= 5  # Smaller penalty for conflict warning\n",
    "        \n",
    "        # Check for exits and remove exited aircraft\n",
    "        remaining_aircraft = []\n",
    "        for ac in self.aircraft:\n",
    "            if ac.has_exited():\n",
    "                if ac.is_near_exit():\n",
    "                    reward += 20  # Bonus for successful exit\n",
    "                    self.successful_exits += 1\n",
    "                else:\n",
    "                    reward -= 10  # Penalty for exiting wrong way\n",
    "            else:\n",
    "                remaining_aircraft.append(ac)\n",
    "        \n",
    "        self.aircraft = remaining_aircraft\n",
    "        \n",
    "        # Spawn new aircraft occasionally\n",
    "        if self.current_step % 10 == 0 and len(self.aircraft) < self.max_aircraft:\n",
    "            if self.np_random.random() < 0.5:  # 50% chance\n",
    "                self._spawn_aircraft()\n",
    "        \n",
    "        self.current_step += 1\n",
    "        self.total_reward += reward\n",
    "        \n",
    "        # Episode ends when max_steps reached\n",
    "        terminated = self.current_step >= self.max_steps\n",
    "        truncated = False\n",
    "        \n",
    "        obs = self._get_observation()\n",
    "        info = self._get_info()\n",
    "        \n",
    "        return obs, reward, terminated, truncated, info\n",
    "    \n",
    "    def _get_observation(self) -> Dict[str, np.ndarray]:\n",
    "        \"\"\"Get current observation.\"\"\"\n",
    "        aircraft_obs = np.zeros((self.max_aircraft, 6), dtype=np.float32)\n",
    "        mask = np.zeros(self.max_aircraft, dtype=np.uint8)\n",
    "        \n",
    "        for i, ac in enumerate(self.aircraft):\n",
    "            if i >= self.max_aircraft:\n",
    "                break\n",
    "            \n",
    "            # Calculate target exit position\n",
    "            if ac.exit_edge == 0:  # North\n",
    "                exit_x, exit_y = ac.x, AIRSPACE_SIZE/2\n",
    "            elif ac.exit_edge == 1:  # East\n",
    "                exit_x, exit_y = AIRSPACE_SIZE/2, ac.y\n",
    "            elif ac.exit_edge == 2:  # South\n",
    "                exit_x, exit_y = ac.x, -AIRSPACE_SIZE/2\n",
    "            else:  # West\n",
    "                exit_x, exit_y = -AIRSPACE_SIZE/2, ac.y\n",
    "            \n",
    "            dx_to_exit = exit_x - ac.x\n",
    "            dy_to_exit = exit_y - ac.y\n",
    "            \n",
    "            aircraft_obs[i] = [\n",
    "                ac.x / (AIRSPACE_SIZE/2),  # Normalize to [-1, 1]\n",
    "                ac.y / (AIRSPACE_SIZE/2),\n",
    "                np.sin(np.radians(ac.heading)),  # Encode heading as sin/cos\n",
    "                np.cos(np.radians(ac.heading)),\n",
    "                dx_to_exit / AIRSPACE_SIZE,\n",
    "                dy_to_exit / AIRSPACE_SIZE,\n",
    "            ]\n",
    "            mask[i] = 1\n",
    "        \n",
    "        return {'aircraft': aircraft_obs, 'mask': mask}\n",
    "    \n",
    "    def _get_info(self) -> Dict[str, Any]:\n",
    "        return {\n",
    "            'step': self.current_step,\n",
    "            'num_aircraft': len(self.aircraft),\n",
    "            'total_reward': self.total_reward,\n",
    "            'separations_lost': self.separations_lost,\n",
    "            'successful_exits': self.successful_exits,\n",
    "        }\n",
    "    \n",
    "    def render(self):\n",
    "        if self.render_mode != 'human':\n",
    "            return\n",
    "        \n",
    "        if self.fig is None:\n",
    "            plt.ion()\n",
    "            self.fig, self.ax = plt.subplots(figsize=(8, 8))\n",
    "        \n",
    "        self.ax.clear()\n",
    "        \n",
    "        # Draw airspace boundary\n",
    "        half_size = AIRSPACE_SIZE / 2\n",
    "        self.ax.add_patch(mpatches.Rectangle(\n",
    "            (-half_size, -half_size), AIRSPACE_SIZE, AIRSPACE_SIZE,\n",
    "            fill=False, edgecolor='gray', linewidth=2\n",
    "        ))\n",
    "        \n",
    "        # Draw separation circles and aircraft\n",
    "        for ac in self.aircraft:\n",
    "            # Separation circle\n",
    "            circle = Circle((ac.x, ac.y), SEPARATION_MIN, \n",
    "                          fill=False, edgecolor='orange', linestyle='--', alpha=0.3)\n",
    "            self.ax.add_patch(circle)\n",
    "            \n",
    "            # Aircraft arrow\n",
    "            heading_rad = np.radians(ac.heading)\n",
    "            dx = 1.5 * np.sin(heading_rad)\n",
    "            dy = 1.5 * np.cos(heading_rad)\n",
    "            arrow = FancyArrow(ac.x, ac.y, dx, dy,\n",
    "                             width=0.5, head_width=1.0, head_length=0.8,\n",
    "                             color='blue', alpha=0.7)\n",
    "            self.ax.add_patch(arrow)\n",
    "            \n",
    "            # Label\n",
    "            self.ax.text(ac.x, ac.y + 1.2, ac.callsign, \n",
    "                        ha='center', va='bottom', fontsize=8, color='blue')\n",
    "        \n",
    "        # Info text\n",
    "        info_text = (\n",
    "            f\"Step: {self.current_step}/{self.max_steps}\\n\"\n",
    "            f\"Aircraft: {len(self.aircraft)}\\n\"\n",
    "            f\"Exits: {self.successful_exits}\\n\"\n",
    "            f\"Violations: {self.separations_lost}\\n\"\n",
    "            f\"Reward: {self.total_reward:.1f}\"\n",
    "        )\n",
    "        self.ax.text(-half_size + 1, half_size - 1, info_text,\n",
    "                    va='top', fontsize=9,\n",
    "                    bbox=dict(boxstyle='round', facecolor='wheat', alpha=0.8))\n",
    "        \n",
    "        self.ax.set_xlim(-half_size - 1, half_size + 1)\n",
    "        self.ax.set_ylim(-half_size - 1, half_size + 1)\n",
    "        self.ax.set_aspect('equal')\n",
    "        self.ax.grid(True, alpha=0.3)\n",
    "        self.ax.set_xlabel('X (nautical miles)')\n",
    "        self.ax.set_ylabel('Y (nautical miles)')\n",
    "        self.ax.set_title('Simple 2D ATC Environment')\n",
    "        \n",
    "        plt.pause(0.01)\n",
    "    \n",
    "    def close(self):\n",
    "        if self.fig is not None:\n",
    "            plt.close(self.fig)\n",
    "            self.fig = None\n",
    "            self.ax = None\n",
    "\n",
    "print('✅ Simple2DATCEnv class defined')\n",
    "print('   Observation: position, heading, distance to exit')\n",
    "print('   Action: select aircraft + change heading')\n",
    "print('   Reward: +20 for exit, -100 for separation loss, -0.1 per step')"
   ]
  },
  {
   "cell_type": "markdown",
   "metadata": {},
   "source": [
    "---\n",
    "# Section 2: Test the Environment\n",
    "\n",
    "Let's see how the environment works with random actions."
   ]
  },
  {
   "cell_type": "code",
   "execution_count": 5,
   "metadata": {},
   "outputs": [
    {
     "name": "stdout",
     "output_type": "stream",
     "text": [
      "✅ Environment created\n",
      "Observation space: Dict('aircraft': Box(-1.0, 1.0, (5, 6), float32), 'mask': Box(0, 1, (5,), uint8))\n",
      "Action space: MultiDiscrete([ 6 25])\n"
     ]
    }
   ],
   "source": [
    "# Create environment\n",
    "env = Simple2DATCEnv(max_aircraft=5, max_steps=50, render_mode='human')\n",
    "\n",
    "print('✅ Environment created')\n",
    "print(f'Observation space: {env.observation_space}')\n",
    "print(f'Action space: {env.action_space}')"
   ]
  },
  {
   "cell_type": "code",
   "execution_count": 6,
   "metadata": {},
   "outputs": [
    {
     "name": "stdout",
     "output_type": "stream",
     "text": [
      "Step 25: Aircraft=0, Exits=4, Violations=7, Reward=-0.1\n",
      "\n",
      "Final Results:\n",
      "  Steps: 30\n",
      "  Successful Exits: 4\n",
      "  Separation Violations: 7\n",
      "  Total Reward: -648.0\n"
     ]
    }
   ],
   "source": [
    "# Run random policy\n",
    "print('Running random policy for 30 steps...')\n",
    "\n",
    "obs, info = env.reset()\n",
    "env.render()\n",
    "\n",
    "for step in range(30):\n",
    "    action = env.action_space.sample()\n",
    "    obs, reward, terminated, truncated, info = env.step(action)\n",
    "    \n",
    "    if step % 5 == 0:\n",
    "        clear_output(wait=True)\n",
    "        env.render()\n",
    "        print(f\"Step {step}: Aircraft={info['num_aircraft']}, \"\n",
    "              f\"Exits={info['successful_exits']}, \"\n",
    "              f\"Violations={info['separations_lost']}, \"\n",
    "              f\"Reward={reward:.1f}\")\n",
    "        time.sleep(0.3)\n",
    "    \n",
    "    if terminated or truncated:\n",
    "        break\n",
    "\n",
    "print(f\"\\nFinal Results:\")\n",
    "print(f\"  Steps: {info['step']}\")\n",
    "print(f\"  Successful Exits: {info['successful_exits']}\")\n",
    "print(f\"  Separation Violations: {info['separations_lost']}\")\n",
    "print(f\"  Total Reward: {info['total_reward']:.1f}\")"
   ]
  },
  {
   "cell_type": "markdown",
   "metadata": {},
   "source": [
    "---\n",
    "# Section 3: Train with PPO\n",
    "\n",
    "Now let's train an RL agent to control the aircraft!"
   ]
  },
  {
   "cell_type": "code",
   "execution_count": 7,
   "metadata": {},
   "outputs": [
    {
     "name": "stdout",
     "output_type": "stream",
     "text": [
      "✅ Training environment created\n"
     ]
    }
   ],
   "source": [
    "# Close previous environment\n",
    "env.close()\n",
    "\n",
    "# Create training environment (no rendering)\n",
    "train_env = Simple2DATCEnv(max_aircraft=5, max_steps=100, render_mode=None)\n",
    "vec_env = DummyVecEnv([lambda: train_env])\n",
    "\n",
    "print('✅ Training environment created')"
   ]
  },
  {
   "cell_type": "code",
   "execution_count": 8,
   "metadata": {},
   "outputs": [
    {
     "name": "stdout",
     "output_type": "stream",
     "text": [
      "✅ Training callback created\n"
     ]
    }
   ],
   "source": [
    "# Create callback to track training progress\n",
    "class TrainingCallback(BaseCallback):\n",
    "    def __init__(self, verbose=0):\n",
    "        super().__init__(verbose)\n",
    "        self.episode_rewards = []\n",
    "        self.episode_lengths = []\n",
    "        \n",
    "    def _on_step(self) -> bool:\n",
    "        # Check if episode ended\n",
    "        if self.locals.get('dones')[0]:\n",
    "            info = self.locals.get('infos')[0]\n",
    "            self.episode_rewards.append(info['total_reward'])\n",
    "            self.episode_lengths.append(info['step'])\n",
    "            \n",
    "            if len(self.episode_rewards) % 10 == 0:\n",
    "                avg_reward = np.mean(self.episode_rewards[-10:])\n",
    "                print(f\"Episode {len(self.episode_rewards)}: \"\n",
    "                      f\"Avg Reward (last 10) = {avg_reward:.1f}\")\n",
    "        \n",
    "        return True\n",
    "\n",
    "callback = TrainingCallback()\n",
    "print('✅ Training callback created')"
   ]
  },
  {
   "cell_type": "code",
   "execution_count": 9,
   "metadata": {},
   "outputs": [
    {
     "name": "stdout",
     "output_type": "stream",
     "text": [
      "Using cuda device\n",
      "✅ PPO model created\n",
      "   Policy: MultiInputPolicy (handles Dict observations)\n",
      "   Learning rate: 3e-4\n",
      "   Batch size: 64\n"
     ]
    }
   ],
   "source": [
    "# Create PPO model\n",
    "model = PPO(\n",
    "    \"MultiInputPolicy\",  # For Dict observation space\n",
    "    vec_env,\n",
    "    learning_rate=3e-4,\n",
    "    n_steps=2048,\n",
    "    batch_size=64,\n",
    "    n_epochs=10,\n",
    "    gamma=0.99,\n",
    "    gae_lambda=0.95,\n",
    "    clip_range=0.2,\n",
    "    ent_coef=0.01,  # Encourage exploration\n",
    "    verbose=1,\n",
    ")\n",
    "\n",
    "print('✅ PPO model created')\n",
    "print(f'   Policy: MultiInputPolicy (handles Dict observations)')\n",
    "print(f'   Learning rate: 3e-4')\n",
    "print(f'   Batch size: 64')"
   ]
  },
  {
   "cell_type": "code",
   "execution_count": 10,
   "metadata": {},
   "outputs": [
    {
     "data": {
      "application/vnd.jupyter.widget-view+json": {
       "model_id": "9c03f7770ead422eb2315beb7c47b6b0",
       "version_major": 2,
       "version_minor": 0
      },
      "text/plain": [
       "Output()"
      ]
     },
     "metadata": {},
     "output_type": "display_data"
    },
    {
     "name": "stdout",
     "output_type": "stream",
     "text": [
      "Training for 50,000 timesteps...\n",
      "This will take about 5-10 minutes.\n",
      "Watch the average reward increase!\n",
      "\n"
     ]
    },
    {
     "data": {
      "text/html": [
       "<pre style=\"white-space:pre;overflow-x:auto;line-height:normal;font-family:Menlo,'DejaVu Sans Mono',consolas,'Courier New',monospace\">Episode 10: Avg Reward (last 10) = -108.0\n",
       "</pre>\n"
      ],
      "text/plain": [
       "Episode 10: Avg Reward (last 10) = -108.0\n"
      ]
     },
     "metadata": {},
     "output_type": "display_data"
    },
    {
     "data": {
      "text/html": [
       "<pre style=\"white-space:pre;overflow-x:auto;line-height:normal;font-family:Menlo,'DejaVu Sans Mono',consolas,'Courier New',monospace\">Episode 20: Avg Reward (last 10) = -30.5\n",
       "</pre>\n"
      ],
      "text/plain": [
       "Episode 20: Avg Reward (last 10) = -30.5\n"
      ]
     },
     "metadata": {},
     "output_type": "display_data"
    },
    {
     "name": "stdout",
     "output_type": "stream",
     "text": [
      "-----------------------------\n",
      "| time/              |      |\n",
      "|    fps             | 1522 |\n",
      "|    iterations      | 1    |\n",
      "|    time_elapsed    | 1    |\n",
      "|    total_timesteps | 2048 |\n",
      "-----------------------------\n"
     ]
    },
    {
     "data": {
      "text/html": [
       "<pre style=\"white-space:pre;overflow-x:auto;line-height:normal;font-family:Menlo,'DejaVu Sans Mono',consolas,'Courier New',monospace\">Episode 30: Avg Reward (last 10) = -189.0\n",
       "</pre>\n"
      ],
      "text/plain": [
       "Episode 30: Avg Reward (last 10) = -189.0\n"
      ]
     },
     "metadata": {},
     "output_type": "display_data"
    },
    {
     "data": {
      "text/html": [
       "<pre style=\"white-space:pre;overflow-x:auto;line-height:normal;font-family:Menlo,'DejaVu Sans Mono',consolas,'Courier New',monospace\">Episode 40: Avg Reward (last 10) = -143.0\n",
       "</pre>\n"
      ],
      "text/plain": [
       "Episode 40: Avg Reward (last 10) = -143.0\n"
      ]
     },
     "metadata": {},
     "output_type": "display_data"
    },
    {
     "name": "stdout",
     "output_type": "stream",
     "text": [
      "-----------------------------------------\n",
      "| time/                   |             |\n",
      "|    fps                  | 1314        |\n",
      "|    iterations           | 2           |\n",
      "|    time_elapsed         | 3           |\n",
      "|    total_timesteps      | 4096        |\n",
      "| train/                  |             |\n",
      "|    approx_kl            | 0.003719599 |\n",
      "|    clip_fraction        | 0.0217      |\n",
      "|    clip_range           | 0.2         |\n",
      "|    entropy_loss         | -5.01       |\n",
      "|    explained_variance   | 0.000502    |\n",
      "|    learning_rate        | 0.0003      |\n",
      "|    loss                 | 88.3        |\n",
      "|    n_updates            | 10          |\n",
      "|    policy_gradient_loss | -0.0209     |\n",
      "|    value_loss           | 1e+03       |\n",
      "-----------------------------------------\n"
     ]
    },
    {
     "data": {
      "text/html": [
       "<pre style=\"white-space:pre;overflow-x:auto;line-height:normal;font-family:Menlo,'DejaVu Sans Mono',consolas,'Courier New',monospace\">Episode 50: Avg Reward (last 10) = -77.0\n",
       "</pre>\n"
      ],
      "text/plain": [
       "Episode 50: Avg Reward (last 10) = -77.0\n"
      ]
     },
     "metadata": {},
     "output_type": "display_data"
    },
    {
     "data": {
      "text/html": [
       "<pre style=\"white-space:pre;overflow-x:auto;line-height:normal;font-family:Menlo,'DejaVu Sans Mono',consolas,'Courier New',monospace\">Episode 60: Avg Reward (last 10) = -64.5\n",
       "</pre>\n"
      ],
      "text/plain": [
       "Episode 60: Avg Reward (last 10) = -64.5\n"
      ]
     },
     "metadata": {},
     "output_type": "display_data"
    },
    {
     "name": "stdout",
     "output_type": "stream",
     "text": [
      "------------------------------------------\n",
      "| time/                   |              |\n",
      "|    fps                  | 1297         |\n",
      "|    iterations           | 3            |\n",
      "|    time_elapsed         | 4            |\n",
      "|    total_timesteps      | 6144         |\n",
      "| train/                  |              |\n",
      "|    approx_kl            | 0.0021290155 |\n",
      "|    clip_fraction        | 0.00952      |\n",
      "|    clip_range           | 0.2          |\n",
      "|    entropy_loss         | -5.01        |\n",
      "|    explained_variance   | 0.0218       |\n",
      "|    learning_rate        | 0.0003       |\n",
      "|    loss                 | 7.27e+03     |\n",
      "|    n_updates            | 20           |\n",
      "|    policy_gradient_loss | -0.017       |\n",
      "|    value_loss           | 2.86e+03     |\n",
      "------------------------------------------\n"
     ]
    },
    {
     "data": {
      "text/html": [
       "<pre style=\"white-space:pre;overflow-x:auto;line-height:normal;font-family:Menlo,'DejaVu Sans Mono',consolas,'Courier New',monospace\">Episode 70: Avg Reward (last 10) = -120.5\n",
       "</pre>\n"
      ],
      "text/plain": [
       "Episode 70: Avg Reward (last 10) = -120.5\n"
      ]
     },
     "metadata": {},
     "output_type": "display_data"
    },
    {
     "data": {
      "text/html": [
       "<pre style=\"white-space:pre;overflow-x:auto;line-height:normal;font-family:Menlo,'DejaVu Sans Mono',consolas,'Courier New',monospace\">Episode 80: Avg Reward (last 10) = -54.5\n",
       "</pre>\n"
      ],
      "text/plain": [
       "Episode 80: Avg Reward (last 10) = -54.5\n"
      ]
     },
     "metadata": {},
     "output_type": "display_data"
    },
    {
     "name": "stdout",
     "output_type": "stream",
     "text": [
      "-----------------------------------------\n",
      "| time/                   |             |\n",
      "|    fps                  | 1289        |\n",
      "|    iterations           | 4           |\n",
      "|    time_elapsed         | 6           |\n",
      "|    total_timesteps      | 8192        |\n",
      "| train/                  |             |\n",
      "|    approx_kl            | 0.004092004 |\n",
      "|    clip_fraction        | 0.0277      |\n",
      "|    clip_range           | 0.2         |\n",
      "|    entropy_loss         | -5          |\n",
      "|    explained_variance   | 0.0523      |\n",
      "|    learning_rate        | 0.0003      |\n",
      "|    loss                 | 356         |\n",
      "|    n_updates            | 30          |\n",
      "|    policy_gradient_loss | -0.0172     |\n",
      "|    value_loss           | 887         |\n",
      "-----------------------------------------\n"
     ]
    },
    {
     "data": {
      "text/html": [
       "<pre style=\"white-space:pre;overflow-x:auto;line-height:normal;font-family:Menlo,'DejaVu Sans Mono',consolas,'Courier New',monospace\">Episode 90: Avg Reward (last 10) = -251.5\n",
       "</pre>\n"
      ],
      "text/plain": [
       "Episode 90: Avg Reward (last 10) = -251.5\n"
      ]
     },
     "metadata": {},
     "output_type": "display_data"
    },
    {
     "data": {
      "text/html": [
       "<pre style=\"white-space:pre;overflow-x:auto;line-height:normal;font-family:Menlo,'DejaVu Sans Mono',consolas,'Courier New',monospace\">Episode 100: Avg Reward (last 10) = -133.5\n",
       "</pre>\n"
      ],
      "text/plain": [
       "Episode 100: Avg Reward (last 10) = -133.5\n"
      ]
     },
     "metadata": {},
     "output_type": "display_data"
    },
    {
     "name": "stdout",
     "output_type": "stream",
     "text": [
      "------------------------------------------\n",
      "| time/                   |              |\n",
      "|    fps                  | 1284         |\n",
      "|    iterations           | 5            |\n",
      "|    time_elapsed         | 7            |\n",
      "|    total_timesteps      | 10240        |\n",
      "| train/                  |              |\n",
      "|    approx_kl            | 0.0039044067 |\n",
      "|    clip_fraction        | 0.0302       |\n",
      "|    clip_range           | 0.2          |\n",
      "|    entropy_loss         | -5           |\n",
      "|    explained_variance   | 0.0526       |\n",
      "|    learning_rate        | 0.0003       |\n",
      "|    loss                 | 223          |\n",
      "|    n_updates            | 40           |\n",
      "|    policy_gradient_loss | -0.0198      |\n",
      "|    value_loss           | 1.04e+03     |\n",
      "------------------------------------------\n"
     ]
    },
    {
     "data": {
      "text/html": [
       "<pre style=\"white-space:pre;overflow-x:auto;line-height:normal;font-family:Menlo,'DejaVu Sans Mono',consolas,'Courier New',monospace\">Episode 110: Avg Reward (last 10) = -216.5\n",
       "</pre>\n"
      ],
      "text/plain": [
       "Episode 110: Avg Reward (last 10) = -216.5\n"
      ]
     },
     "metadata": {},
     "output_type": "display_data"
    },
    {
     "data": {
      "text/html": [
       "<pre style=\"white-space:pre;overflow-x:auto;line-height:normal;font-family:Menlo,'DejaVu Sans Mono',consolas,'Courier New',monospace\">Episode 120: Avg Reward (last 10) = -138.5\n",
       "</pre>\n"
      ],
      "text/plain": [
       "Episode 120: Avg Reward (last 10) = -138.5\n"
      ]
     },
     "metadata": {},
     "output_type": "display_data"
    },
    {
     "name": "stdout",
     "output_type": "stream",
     "text": [
      "-----------------------------------------\n",
      "| time/                   |             |\n",
      "|    fps                  | 1282        |\n",
      "|    iterations           | 6           |\n",
      "|    time_elapsed         | 9           |\n",
      "|    total_timesteps      | 12288       |\n",
      "| train/                  |             |\n",
      "|    approx_kl            | 0.003201698 |\n",
      "|    clip_fraction        | 0.0113      |\n",
      "|    clip_range           | 0.2         |\n",
      "|    entropy_loss         | -4.99       |\n",
      "|    explained_variance   | 0.0876      |\n",
      "|    learning_rate        | 0.0003      |\n",
      "|    loss                 | 97.3        |\n",
      "|    n_updates            | 50          |\n",
      "|    policy_gradient_loss | -0.0125     |\n",
      "|    value_loss           | 3.32e+03    |\n",
      "-----------------------------------------\n"
     ]
    },
    {
     "data": {
      "text/html": [
       "<pre style=\"white-space:pre;overflow-x:auto;line-height:normal;font-family:Menlo,'DejaVu Sans Mono',consolas,'Courier New',monospace\">Episode 130: Avg Reward (last 10) = -180.5\n",
       "</pre>\n"
      ],
      "text/plain": [
       "Episode 130: Avg Reward (last 10) = -180.5\n"
      ]
     },
     "metadata": {},
     "output_type": "display_data"
    },
    {
     "data": {
      "text/html": [
       "<pre style=\"white-space:pre;overflow-x:auto;line-height:normal;font-family:Menlo,'DejaVu Sans Mono',consolas,'Courier New',monospace\">Episode 140: Avg Reward (last 10) = -144.5\n",
       "</pre>\n"
      ],
      "text/plain": [
       "Episode 140: Avg Reward (last 10) = -144.5\n"
      ]
     },
     "metadata": {},
     "output_type": "display_data"
    },
    {
     "name": "stdout",
     "output_type": "stream",
     "text": [
      "------------------------------------------\n",
      "| time/                   |              |\n",
      "|    fps                  | 1281         |\n",
      "|    iterations           | 7            |\n",
      "|    time_elapsed         | 11           |\n",
      "|    total_timesteps      | 14336        |\n",
      "| train/                  |              |\n",
      "|    approx_kl            | 0.0032482548 |\n",
      "|    clip_fraction        | 0.0189       |\n",
      "|    clip_range           | 0.2          |\n",
      "|    entropy_loss         | -4.99        |\n",
      "|    explained_variance   | 0.131        |\n",
      "|    learning_rate        | 0.0003       |\n",
      "|    loss                 | 1.52e+03     |\n",
      "|    n_updates            | 60           |\n",
      "|    policy_gradient_loss | -0.0153      |\n",
      "|    value_loss           | 1.93e+03     |\n",
      "------------------------------------------\n"
     ]
    },
    {
     "data": {
      "text/html": [
       "<pre style=\"white-space:pre;overflow-x:auto;line-height:normal;font-family:Menlo,'DejaVu Sans Mono',consolas,'Courier New',monospace\">Episode 150: Avg Reward (last 10) = -57.0\n",
       "</pre>\n"
      ],
      "text/plain": [
       "Episode 150: Avg Reward (last 10) = -57.0\n"
      ]
     },
     "metadata": {},
     "output_type": "display_data"
    },
    {
     "data": {
      "text/html": [
       "<pre style=\"white-space:pre;overflow-x:auto;line-height:normal;font-family:Menlo,'DejaVu Sans Mono',consolas,'Courier New',monospace\">Episode 160: Avg Reward (last 10) = -133.0\n",
       "</pre>\n"
      ],
      "text/plain": [
       "Episode 160: Avg Reward (last 10) = -133.0\n"
      ]
     },
     "metadata": {},
     "output_type": "display_data"
    },
    {
     "name": "stdout",
     "output_type": "stream",
     "text": [
      "------------------------------------------\n",
      "| time/                   |              |\n",
      "|    fps                  | 1281         |\n",
      "|    iterations           | 8            |\n",
      "|    time_elapsed         | 12           |\n",
      "|    total_timesteps      | 16384        |\n",
      "| train/                  |              |\n",
      "|    approx_kl            | 0.0027099142 |\n",
      "|    clip_fraction        | 0.0187       |\n",
      "|    clip_range           | 0.2          |\n",
      "|    entropy_loss         | -4.99        |\n",
      "|    explained_variance   | 0.154        |\n",
      "|    learning_rate        | 0.0003       |\n",
      "|    loss                 | 121          |\n",
      "|    n_updates            | 70           |\n",
      "|    policy_gradient_loss | -0.0161      |\n",
      "|    value_loss           | 1.74e+03     |\n",
      "------------------------------------------\n"
     ]
    },
    {
     "data": {
      "text/html": [
       "<pre style=\"white-space:pre;overflow-x:auto;line-height:normal;font-family:Menlo,'DejaVu Sans Mono',consolas,'Courier New',monospace\">Episode 170: Avg Reward (last 10) = -137.0\n",
       "</pre>\n"
      ],
      "text/plain": [
       "Episode 170: Avg Reward (last 10) = -137.0\n"
      ]
     },
     "metadata": {},
     "output_type": "display_data"
    },
    {
     "data": {
      "text/html": [
       "<pre style=\"white-space:pre;overflow-x:auto;line-height:normal;font-family:Menlo,'DejaVu Sans Mono',consolas,'Courier New',monospace\">Episode 180: Avg Reward (last 10) = -405.5\n",
       "</pre>\n"
      ],
      "text/plain": [
       "Episode 180: Avg Reward (last 10) = -405.5\n"
      ]
     },
     "metadata": {},
     "output_type": "display_data"
    },
    {
     "name": "stdout",
     "output_type": "stream",
     "text": [
      "-----------------------------------------\n",
      "| time/                   |             |\n",
      "|    fps                  | 1281        |\n",
      "|    iterations           | 9           |\n",
      "|    time_elapsed         | 14          |\n",
      "|    total_timesteps      | 18432       |\n",
      "| train/                  |             |\n",
      "|    approx_kl            | 0.003420401 |\n",
      "|    clip_fraction        | 0.0256      |\n",
      "|    clip_range           | 0.2         |\n",
      "|    entropy_loss         | -4.98       |\n",
      "|    explained_variance   | 0.169       |\n",
      "|    learning_rate        | 0.0003      |\n",
      "|    loss                 | 190         |\n",
      "|    n_updates            | 80          |\n",
      "|    policy_gradient_loss | -0.0166     |\n",
      "|    value_loss           | 1.36e+03    |\n",
      "-----------------------------------------\n"
     ]
    },
    {
     "data": {
      "text/html": [
       "<pre style=\"white-space:pre;overflow-x:auto;line-height:normal;font-family:Menlo,'DejaVu Sans Mono',consolas,'Courier New',monospace\">Episode 190: Avg Reward (last 10) = -146.0\n",
       "</pre>\n"
      ],
      "text/plain": [
       "Episode 190: Avg Reward (last 10) = -146.0\n"
      ]
     },
     "metadata": {},
     "output_type": "display_data"
    },
    {
     "data": {
      "text/html": [
       "<pre style=\"white-space:pre;overflow-x:auto;line-height:normal;font-family:Menlo,'DejaVu Sans Mono',consolas,'Courier New',monospace\">Episode 200: Avg Reward (last 10) = -164.0\n",
       "</pre>\n"
      ],
      "text/plain": [
       "Episode 200: Avg Reward (last 10) = -164.0\n"
      ]
     },
     "metadata": {},
     "output_type": "display_data"
    },
    {
     "name": "stdout",
     "output_type": "stream",
     "text": [
      "------------------------------------------\n",
      "| time/                   |              |\n",
      "|    fps                  | 1281         |\n",
      "|    iterations           | 10           |\n",
      "|    time_elapsed         | 15           |\n",
      "|    total_timesteps      | 20480        |\n",
      "| train/                  |              |\n",
      "|    approx_kl            | 0.0031761406 |\n",
      "|    clip_fraction        | 0.0171       |\n",
      "|    clip_range           | 0.2          |\n",
      "|    entropy_loss         | -4.98        |\n",
      "|    explained_variance   | 0.133        |\n",
      "|    learning_rate        | 0.0003       |\n",
      "|    loss                 | 767          |\n",
      "|    n_updates            | 90           |\n",
      "|    policy_gradient_loss | -0.0171      |\n",
      "|    value_loss           | 3.93e+03     |\n",
      "------------------------------------------\n"
     ]
    },
    {
     "data": {
      "text/html": [
       "<pre style=\"white-space:pre;overflow-x:auto;line-height:normal;font-family:Menlo,'DejaVu Sans Mono',consolas,'Courier New',monospace\">Episode 210: Avg Reward (last 10) = -227.0\n",
       "</pre>\n"
      ],
      "text/plain": [
       "Episode 210: Avg Reward (last 10) = -227.0\n"
      ]
     },
     "metadata": {},
     "output_type": "display_data"
    },
    {
     "data": {
      "text/html": [
       "<pre style=\"white-space:pre;overflow-x:auto;line-height:normal;font-family:Menlo,'DejaVu Sans Mono',consolas,'Courier New',monospace\">Episode 220: Avg Reward (last 10) = -260.5\n",
       "</pre>\n"
      ],
      "text/plain": [
       "Episode 220: Avg Reward (last 10) = -260.5\n"
      ]
     },
     "metadata": {},
     "output_type": "display_data"
    },
    {
     "name": "stdout",
     "output_type": "stream",
     "text": [
      "------------------------------------------\n",
      "| time/                   |              |\n",
      "|    fps                  | 1281         |\n",
      "|    iterations           | 11           |\n",
      "|    time_elapsed         | 17           |\n",
      "|    total_timesteps      | 22528        |\n",
      "| train/                  |              |\n",
      "|    approx_kl            | 0.0031503567 |\n",
      "|    clip_fraction        | 0.0178       |\n",
      "|    clip_range           | 0.2          |\n",
      "|    entropy_loss         | -4.97        |\n",
      "|    explained_variance   | 0.198        |\n",
      "|    learning_rate        | 0.0003       |\n",
      "|    loss                 | 58.7         |\n",
      "|    n_updates            | 100          |\n",
      "|    policy_gradient_loss | -0.0159      |\n",
      "|    value_loss           | 2.5e+03      |\n",
      "------------------------------------------\n"
     ]
    },
    {
     "data": {
      "text/html": [
       "<pre style=\"white-space:pre;overflow-x:auto;line-height:normal;font-family:Menlo,'DejaVu Sans Mono',consolas,'Courier New',monospace\">Episode 230: Avg Reward (last 10) = -177.0\n",
       "</pre>\n"
      ],
      "text/plain": [
       "Episode 230: Avg Reward (last 10) = -177.0\n"
      ]
     },
     "metadata": {},
     "output_type": "display_data"
    },
    {
     "data": {
      "text/html": [
       "<pre style=\"white-space:pre;overflow-x:auto;line-height:normal;font-family:Menlo,'DejaVu Sans Mono',consolas,'Courier New',monospace\">Episode 240: Avg Reward (last 10) = -23.5\n",
       "</pre>\n"
      ],
      "text/plain": [
       "Episode 240: Avg Reward (last 10) = -23.5\n"
      ]
     },
     "metadata": {},
     "output_type": "display_data"
    },
    {
     "name": "stdout",
     "output_type": "stream",
     "text": [
      "------------------------------------------\n",
      "| time/                   |              |\n",
      "|    fps                  | 1281         |\n",
      "|    iterations           | 12           |\n",
      "|    time_elapsed         | 19           |\n",
      "|    total_timesteps      | 24576        |\n",
      "| train/                  |              |\n",
      "|    approx_kl            | 0.0038162714 |\n",
      "|    clip_fraction        | 0.0327       |\n",
      "|    clip_range           | 0.2          |\n",
      "|    entropy_loss         | -4.96        |\n",
      "|    explained_variance   | 0.2          |\n",
      "|    learning_rate        | 0.0003       |\n",
      "|    loss                 | 438          |\n",
      "|    n_updates            | 110          |\n",
      "|    policy_gradient_loss | -0.0203      |\n",
      "|    value_loss           | 3.35e+03     |\n",
      "------------------------------------------\n"
     ]
    },
    {
     "data": {
      "text/html": [
       "<pre style=\"white-space:pre;overflow-x:auto;line-height:normal;font-family:Menlo,'DejaVu Sans Mono',consolas,'Courier New',monospace\">Episode 250: Avg Reward (last 10) = -135.0\n",
       "</pre>\n"
      ],
      "text/plain": [
       "Episode 250: Avg Reward (last 10) = -135.0\n"
      ]
     },
     "metadata": {},
     "output_type": "display_data"
    },
    {
     "data": {
      "text/html": [
       "<pre style=\"white-space:pre;overflow-x:auto;line-height:normal;font-family:Menlo,'DejaVu Sans Mono',consolas,'Courier New',monospace\">Episode 260: Avg Reward (last 10) = -57.5\n",
       "</pre>\n"
      ],
      "text/plain": [
       "Episode 260: Avg Reward (last 10) = -57.5\n"
      ]
     },
     "metadata": {},
     "output_type": "display_data"
    },
    {
     "name": "stdout",
     "output_type": "stream",
     "text": [
      "------------------------------------------\n",
      "| time/                   |              |\n",
      "|    fps                  | 1281         |\n",
      "|    iterations           | 13           |\n",
      "|    time_elapsed         | 20           |\n",
      "|    total_timesteps      | 26624        |\n",
      "| train/                  |              |\n",
      "|    approx_kl            | 0.0032326235 |\n",
      "|    clip_fraction        | 0.017        |\n",
      "|    clip_range           | 0.2          |\n",
      "|    entropy_loss         | -4.96        |\n",
      "|    explained_variance   | 0.0557       |\n",
      "|    learning_rate        | 0.0003       |\n",
      "|    loss                 | 690          |\n",
      "|    n_updates            | 120          |\n",
      "|    policy_gradient_loss | -0.014       |\n",
      "|    value_loss           | 1.47e+03     |\n",
      "------------------------------------------\n"
     ]
    },
    {
     "data": {
      "text/html": [
       "<pre style=\"white-space:pre;overflow-x:auto;line-height:normal;font-family:Menlo,'DejaVu Sans Mono',consolas,'Courier New',monospace\">Episode 270: Avg Reward (last 10) = -193.5\n",
       "</pre>\n"
      ],
      "text/plain": [
       "Episode 270: Avg Reward (last 10) = -193.5\n"
      ]
     },
     "metadata": {},
     "output_type": "display_data"
    },
    {
     "data": {
      "text/html": [
       "<pre style=\"white-space:pre;overflow-x:auto;line-height:normal;font-family:Menlo,'DejaVu Sans Mono',consolas,'Courier New',monospace\">Episode 280: Avg Reward (last 10) = -13.0\n",
       "</pre>\n"
      ],
      "text/plain": [
       "Episode 280: Avg Reward (last 10) = -13.0\n"
      ]
     },
     "metadata": {},
     "output_type": "display_data"
    },
    {
     "name": "stdout",
     "output_type": "stream",
     "text": [
      "------------------------------------------\n",
      "| time/                   |              |\n",
      "|    fps                  | 1280         |\n",
      "|    iterations           | 14           |\n",
      "|    time_elapsed         | 22           |\n",
      "|    total_timesteps      | 28672        |\n",
      "| train/                  |              |\n",
      "|    approx_kl            | 0.0037397658 |\n",
      "|    clip_fraction        | 0.0214       |\n",
      "|    clip_range           | 0.2          |\n",
      "|    entropy_loss         | -4.95        |\n",
      "|    explained_variance   | 0.169        |\n",
      "|    learning_rate        | 0.0003       |\n",
      "|    loss                 | 460          |\n",
      "|    n_updates            | 130          |\n",
      "|    policy_gradient_loss | -0.0134      |\n",
      "|    value_loss           | 2.34e+03     |\n",
      "------------------------------------------\n"
     ]
    },
    {
     "data": {
      "text/html": [
       "<pre style=\"white-space:pre;overflow-x:auto;line-height:normal;font-family:Menlo,'DejaVu Sans Mono',consolas,'Courier New',monospace\">Episode 290: Avg Reward (last 10) = -108.0\n",
       "</pre>\n"
      ],
      "text/plain": [
       "Episode 290: Avg Reward (last 10) = -108.0\n"
      ]
     },
     "metadata": {},
     "output_type": "display_data"
    },
    {
     "data": {
      "text/html": [
       "<pre style=\"white-space:pre;overflow-x:auto;line-height:normal;font-family:Menlo,'DejaVu Sans Mono',consolas,'Courier New',monospace\">Episode 300: Avg Reward (last 10) = -147.5\n",
       "</pre>\n"
      ],
      "text/plain": [
       "Episode 300: Avg Reward (last 10) = -147.5\n"
      ]
     },
     "metadata": {},
     "output_type": "display_data"
    },
    {
     "name": "stdout",
     "output_type": "stream",
     "text": [
      "------------------------------------------\n",
      "| time/                   |              |\n",
      "|    fps                  | 1280         |\n",
      "|    iterations           | 15           |\n",
      "|    time_elapsed         | 23           |\n",
      "|    total_timesteps      | 30720        |\n",
      "| train/                  |              |\n",
      "|    approx_kl            | 0.0029231715 |\n",
      "|    clip_fraction        | 0.0171       |\n",
      "|    clip_range           | 0.2          |\n",
      "|    entropy_loss         | -4.96        |\n",
      "|    explained_variance   | -0.0041      |\n",
      "|    learning_rate        | 0.0003       |\n",
      "|    loss                 | 841          |\n",
      "|    n_updates            | 140          |\n",
      "|    policy_gradient_loss | -0.0155      |\n",
      "|    value_loss           | 791          |\n",
      "------------------------------------------\n"
     ]
    },
    {
     "data": {
      "text/html": [
       "<pre style=\"white-space:pre;overflow-x:auto;line-height:normal;font-family:Menlo,'DejaVu Sans Mono',consolas,'Courier New',monospace\">Episode 310: Avg Reward (last 10) = -74.0\n",
       "</pre>\n"
      ],
      "text/plain": [
       "Episode 310: Avg Reward (last 10) = -74.0\n"
      ]
     },
     "metadata": {},
     "output_type": "display_data"
    },
    {
     "data": {
      "text/html": [
       "<pre style=\"white-space:pre;overflow-x:auto;line-height:normal;font-family:Menlo,'DejaVu Sans Mono',consolas,'Courier New',monospace\">Episode 320: Avg Reward (last 10) = -83.0\n",
       "</pre>\n"
      ],
      "text/plain": [
       "Episode 320: Avg Reward (last 10) = -83.0\n"
      ]
     },
     "metadata": {},
     "output_type": "display_data"
    },
    {
     "name": "stdout",
     "output_type": "stream",
     "text": [
      "------------------------------------------\n",
      "| time/                   |              |\n",
      "|    fps                  | 1279         |\n",
      "|    iterations           | 16           |\n",
      "|    time_elapsed         | 25           |\n",
      "|    total_timesteps      | 32768        |\n",
      "| train/                  |              |\n",
      "|    approx_kl            | 0.0034327493 |\n",
      "|    clip_fraction        | 0.0163       |\n",
      "|    clip_range           | 0.2          |\n",
      "|    entropy_loss         | -4.95        |\n",
      "|    explained_variance   | 0.208        |\n",
      "|    learning_rate        | 0.0003       |\n",
      "|    loss                 | 149          |\n",
      "|    n_updates            | 150          |\n",
      "|    policy_gradient_loss | -0.0137      |\n",
      "|    value_loss           | 1.34e+03     |\n",
      "------------------------------------------\n"
     ]
    },
    {
     "data": {
      "text/html": [
       "<pre style=\"white-space:pre;overflow-x:auto;line-height:normal;font-family:Menlo,'DejaVu Sans Mono',consolas,'Courier New',monospace\">Episode 330: Avg Reward (last 10) = -169.0\n",
       "</pre>\n"
      ],
      "text/plain": [
       "Episode 330: Avg Reward (last 10) = -169.0\n"
      ]
     },
     "metadata": {},
     "output_type": "display_data"
    },
    {
     "data": {
      "text/html": [
       "<pre style=\"white-space:pre;overflow-x:auto;line-height:normal;font-family:Menlo,'DejaVu Sans Mono',consolas,'Courier New',monospace\">Episode 340: Avg Reward (last 10) = -236.0\n",
       "</pre>\n"
      ],
      "text/plain": [
       "Episode 340: Avg Reward (last 10) = -236.0\n"
      ]
     },
     "metadata": {},
     "output_type": "display_data"
    },
    {
     "name": "stdout",
     "output_type": "stream",
     "text": [
      "-----------------------------------------\n",
      "| time/                   |             |\n",
      "|    fps                  | 1279        |\n",
      "|    iterations           | 17          |\n",
      "|    time_elapsed         | 27          |\n",
      "|    total_timesteps      | 34816       |\n",
      "| train/                  |             |\n",
      "|    approx_kl            | 0.002880898 |\n",
      "|    clip_fraction        | 0.0104      |\n",
      "|    clip_range           | 0.2         |\n",
      "|    entropy_loss         | -4.95       |\n",
      "|    explained_variance   | 0.04        |\n",
      "|    learning_rate        | 0.0003      |\n",
      "|    loss                 | 507         |\n",
      "|    n_updates            | 160         |\n",
      "|    policy_gradient_loss | -0.0126     |\n",
      "|    value_loss           | 1.66e+03    |\n",
      "-----------------------------------------\n"
     ]
    },
    {
     "data": {
      "text/html": [
       "<pre style=\"white-space:pre;overflow-x:auto;line-height:normal;font-family:Menlo,'DejaVu Sans Mono',consolas,'Courier New',monospace\">Episode 350: Avg Reward (last 10) = -54.5\n",
       "</pre>\n"
      ],
      "text/plain": [
       "Episode 350: Avg Reward (last 10) = -54.5\n"
      ]
     },
     "metadata": {},
     "output_type": "display_data"
    },
    {
     "data": {
      "text/html": [
       "<pre style=\"white-space:pre;overflow-x:auto;line-height:normal;font-family:Menlo,'DejaVu Sans Mono',consolas,'Courier New',monospace\">Episode 360: Avg Reward (last 10) = -346.5\n",
       "</pre>\n"
      ],
      "text/plain": [
       "Episode 360: Avg Reward (last 10) = -346.5\n"
      ]
     },
     "metadata": {},
     "output_type": "display_data"
    },
    {
     "name": "stdout",
     "output_type": "stream",
     "text": [
      "------------------------------------------\n",
      "| time/                   |              |\n",
      "|    fps                  | 1276         |\n",
      "|    iterations           | 18           |\n",
      "|    time_elapsed         | 28           |\n",
      "|    total_timesteps      | 36864        |\n",
      "| train/                  |              |\n",
      "|    approx_kl            | 0.0029785647 |\n",
      "|    clip_fraction        | 0.0167       |\n",
      "|    clip_range           | 0.2          |\n",
      "|    entropy_loss         | -4.94        |\n",
      "|    explained_variance   | 0.106        |\n",
      "|    learning_rate        | 0.0003       |\n",
      "|    loss                 | 970          |\n",
      "|    n_updates            | 170          |\n",
      "|    policy_gradient_loss | -0.0121      |\n",
      "|    value_loss           | 2.85e+03     |\n",
      "------------------------------------------\n"
     ]
    },
    {
     "data": {
      "text/html": [
       "<pre style=\"white-space:pre;overflow-x:auto;line-height:normal;font-family:Menlo,'DejaVu Sans Mono',consolas,'Courier New',monospace\">Episode 370: Avg Reward (last 10) = -167.0\n",
       "</pre>\n"
      ],
      "text/plain": [
       "Episode 370: Avg Reward (last 10) = -167.0\n"
      ]
     },
     "metadata": {},
     "output_type": "display_data"
    },
    {
     "data": {
      "text/html": [
       "<pre style=\"white-space:pre;overflow-x:auto;line-height:normal;font-family:Menlo,'DejaVu Sans Mono',consolas,'Courier New',monospace\">Episode 380: Avg Reward (last 10) = -261.5\n",
       "</pre>\n"
      ],
      "text/plain": [
       "Episode 380: Avg Reward (last 10) = -261.5\n"
      ]
     },
     "metadata": {},
     "output_type": "display_data"
    },
    {
     "name": "stdout",
     "output_type": "stream",
     "text": [
      "------------------------------------------\n",
      "| time/                   |              |\n",
      "|    fps                  | 1265         |\n",
      "|    iterations           | 19           |\n",
      "|    time_elapsed         | 30           |\n",
      "|    total_timesteps      | 38912        |\n",
      "| train/                  |              |\n",
      "|    approx_kl            | 0.0019701235 |\n",
      "|    clip_fraction        | 0.00679      |\n",
      "|    clip_range           | 0.2          |\n",
      "|    entropy_loss         | -4.93        |\n",
      "|    explained_variance   | 0.126        |\n",
      "|    learning_rate        | 0.0003       |\n",
      "|    loss                 | 187          |\n",
      "|    n_updates            | 180          |\n",
      "|    policy_gradient_loss | -0.00971     |\n",
      "|    value_loss           | 6.14e+03     |\n",
      "------------------------------------------\n"
     ]
    },
    {
     "data": {
      "text/html": [
       "<pre style=\"white-space:pre;overflow-x:auto;line-height:normal;font-family:Menlo,'DejaVu Sans Mono',consolas,'Courier New',monospace\">Episode 390: Avg Reward (last 10) = -73.0\n",
       "</pre>\n"
      ],
      "text/plain": [
       "Episode 390: Avg Reward (last 10) = -73.0\n"
      ]
     },
     "metadata": {},
     "output_type": "display_data"
    },
    {
     "data": {
      "text/html": [
       "<pre style=\"white-space:pre;overflow-x:auto;line-height:normal;font-family:Menlo,'DejaVu Sans Mono',consolas,'Courier New',monospace\">Episode 400: Avg Reward (last 10) = -157.0\n",
       "</pre>\n"
      ],
      "text/plain": [
       "Episode 400: Avg Reward (last 10) = -157.0\n"
      ]
     },
     "metadata": {},
     "output_type": "display_data"
    },
    {
     "name": "stdout",
     "output_type": "stream",
     "text": [
      "-----------------------------------------\n",
      "| time/                   |             |\n",
      "|    fps                  | 1257        |\n",
      "|    iterations           | 20          |\n",
      "|    time_elapsed         | 32          |\n",
      "|    total_timesteps      | 40960       |\n",
      "| train/                  |             |\n",
      "|    approx_kl            | 0.003321229 |\n",
      "|    clip_fraction        | 0.0205      |\n",
      "|    clip_range           | 0.2         |\n",
      "|    entropy_loss         | -4.94       |\n",
      "|    explained_variance   | 0.254       |\n",
      "|    learning_rate        | 0.0003      |\n",
      "|    loss                 | 485         |\n",
      "|    n_updates            | 190         |\n",
      "|    policy_gradient_loss | -0.0187     |\n",
      "|    value_loss           | 2.04e+03    |\n",
      "-----------------------------------------\n"
     ]
    },
    {
     "data": {
      "text/html": [
       "<pre style=\"white-space:pre;overflow-x:auto;line-height:normal;font-family:Menlo,'DejaVu Sans Mono',consolas,'Courier New',monospace\">Episode 410: Avg Reward (last 10) = -8.5\n",
       "</pre>\n"
      ],
      "text/plain": [
       "Episode 410: Avg Reward (last 10) = -8.5\n"
      ]
     },
     "metadata": {},
     "output_type": "display_data"
    },
    {
     "data": {
      "text/html": [
       "<pre style=\"white-space:pre;overflow-x:auto;line-height:normal;font-family:Menlo,'DejaVu Sans Mono',consolas,'Courier New',monospace\">Episode 420: Avg Reward (last 10) = -147.5\n",
       "</pre>\n"
      ],
      "text/plain": [
       "Episode 420: Avg Reward (last 10) = -147.5\n"
      ]
     },
     "metadata": {},
     "output_type": "display_data"
    },
    {
     "data": {
      "text/html": [
       "<pre style=\"white-space:pre;overflow-x:auto;line-height:normal;font-family:Menlo,'DejaVu Sans Mono',consolas,'Courier New',monospace\">Episode 430: Avg Reward (last 10) = -286.5\n",
       "</pre>\n"
      ],
      "text/plain": [
       "Episode 430: Avg Reward (last 10) = -286.5\n"
      ]
     },
     "metadata": {},
     "output_type": "display_data"
    },
    {
     "name": "stdout",
     "output_type": "stream",
     "text": [
      "------------------------------------------\n",
      "| time/                   |              |\n",
      "|    fps                  | 1249         |\n",
      "|    iterations           | 21           |\n",
      "|    time_elapsed         | 34           |\n",
      "|    total_timesteps      | 43008        |\n",
      "| train/                  |              |\n",
      "|    approx_kl            | 0.0028015347 |\n",
      "|    clip_fraction        | 0.0168       |\n",
      "|    clip_range           | 0.2          |\n",
      "|    entropy_loss         | -4.93        |\n",
      "|    explained_variance   | 0.195        |\n",
      "|    learning_rate        | 0.0003       |\n",
      "|    loss                 | 236          |\n",
      "|    n_updates            | 200          |\n",
      "|    policy_gradient_loss | -0.0154      |\n",
      "|    value_loss           | 1.36e+03     |\n",
      "------------------------------------------\n"
     ]
    },
    {
     "data": {
      "text/html": [
       "<pre style=\"white-space:pre;overflow-x:auto;line-height:normal;font-family:Menlo,'DejaVu Sans Mono',consolas,'Courier New',monospace\">Episode 440: Avg Reward (last 10) = -203.0\n",
       "</pre>\n"
      ],
      "text/plain": [
       "Episode 440: Avg Reward (last 10) = -203.0\n"
      ]
     },
     "metadata": {},
     "output_type": "display_data"
    },
    {
     "data": {
      "text/html": [
       "<pre style=\"white-space:pre;overflow-x:auto;line-height:normal;font-family:Menlo,'DejaVu Sans Mono',consolas,'Courier New',monospace\">Episode 450: Avg Reward (last 10) = -164.5\n",
       "</pre>\n"
      ],
      "text/plain": [
       "Episode 450: Avg Reward (last 10) = -164.5\n"
      ]
     },
     "metadata": {},
     "output_type": "display_data"
    },
    {
     "name": "stdout",
     "output_type": "stream",
     "text": [
      "-----------------------------------------\n",
      "| time/                   |             |\n",
      "|    fps                  | 1250        |\n",
      "|    iterations           | 22          |\n",
      "|    time_elapsed         | 36          |\n",
      "|    total_timesteps      | 45056       |\n",
      "| train/                  |             |\n",
      "|    approx_kl            | 0.004102843 |\n",
      "|    clip_fraction        | 0.0212      |\n",
      "|    clip_range           | 0.2         |\n",
      "|    entropy_loss         | -4.93       |\n",
      "|    explained_variance   | 0.14        |\n",
      "|    learning_rate        | 0.0003      |\n",
      "|    loss                 | 2.1e+03     |\n",
      "|    n_updates            | 210         |\n",
      "|    policy_gradient_loss | -0.0138     |\n",
      "|    value_loss           | 3.37e+03    |\n",
      "-----------------------------------------\n"
     ]
    },
    {
     "data": {
      "text/html": [
       "<pre style=\"white-space:pre;overflow-x:auto;line-height:normal;font-family:Menlo,'DejaVu Sans Mono',consolas,'Courier New',monospace\">Episode 460: Avg Reward (last 10) = -30.0\n",
       "</pre>\n"
      ],
      "text/plain": [
       "Episode 460: Avg Reward (last 10) = -30.0\n"
      ]
     },
     "metadata": {},
     "output_type": "display_data"
    },
    {
     "data": {
      "text/html": [
       "<pre style=\"white-space:pre;overflow-x:auto;line-height:normal;font-family:Menlo,'DejaVu Sans Mono',consolas,'Courier New',monospace\">Episode 470: Avg Reward (last 10) = -94.0\n",
       "</pre>\n"
      ],
      "text/plain": [
       "Episode 470: Avg Reward (last 10) = -94.0\n"
      ]
     },
     "metadata": {},
     "output_type": "display_data"
    },
    {
     "name": "stdout",
     "output_type": "stream",
     "text": [
      "------------------------------------------\n",
      "| time/                   |              |\n",
      "|    fps                  | 1248         |\n",
      "|    iterations           | 23           |\n",
      "|    time_elapsed         | 37           |\n",
      "|    total_timesteps      | 47104        |\n",
      "| train/                  |              |\n",
      "|    approx_kl            | 0.0042034495 |\n",
      "|    clip_fraction        | 0.024        |\n",
      "|    clip_range           | 0.2          |\n",
      "|    entropy_loss         | -4.93        |\n",
      "|    explained_variance   | 0.327        |\n",
      "|    learning_rate        | 0.0003       |\n",
      "|    loss                 | 1.79e+03     |\n",
      "|    n_updates            | 220          |\n",
      "|    policy_gradient_loss | -0.0166      |\n",
      "|    value_loss           | 2.16e+03     |\n",
      "------------------------------------------\n"
     ]
    },
    {
     "data": {
      "text/html": [
       "<pre style=\"white-space:pre;overflow-x:auto;line-height:normal;font-family:Menlo,'DejaVu Sans Mono',consolas,'Courier New',monospace\">Episode 480: Avg Reward (last 10) = -69.5\n",
       "</pre>\n"
      ],
      "text/plain": [
       "Episode 480: Avg Reward (last 10) = -69.5\n"
      ]
     },
     "metadata": {},
     "output_type": "display_data"
    },
    {
     "data": {
      "text/html": [
       "<pre style=\"white-space:pre;overflow-x:auto;line-height:normal;font-family:Menlo,'DejaVu Sans Mono',consolas,'Courier New',monospace\">Episode 490: Avg Reward (last 10) = -120.0\n",
       "</pre>\n"
      ],
      "text/plain": [
       "Episode 490: Avg Reward (last 10) = -120.0\n"
      ]
     },
     "metadata": {},
     "output_type": "display_data"
    },
    {
     "name": "stdout",
     "output_type": "stream",
     "text": [
      "-----------------------------------------\n",
      "| time/                   |             |\n",
      "|    fps                  | 1249        |\n",
      "|    iterations           | 24          |\n",
      "|    time_elapsed         | 39          |\n",
      "|    total_timesteps      | 49152       |\n",
      "| train/                  |             |\n",
      "|    approx_kl            | 0.005294378 |\n",
      "|    clip_fraction        | 0.0272      |\n",
      "|    clip_range           | 0.2         |\n",
      "|    entropy_loss         | -4.92       |\n",
      "|    explained_variance   | 0.182       |\n",
      "|    learning_rate        | 0.0003      |\n",
      "|    loss                 | 366         |\n",
      "|    n_updates            | 230         |\n",
      "|    policy_gradient_loss | -0.0143     |\n",
      "|    value_loss           | 1.28e+03    |\n",
      "-----------------------------------------\n"
     ]
    },
    {
     "data": {
      "text/html": [
       "<pre style=\"white-space:pre;overflow-x:auto;line-height:normal;font-family:Menlo,'DejaVu Sans Mono',consolas,'Courier New',monospace\">Episode 500: Avg Reward (last 10) = -108.0\n",
       "</pre>\n"
      ],
      "text/plain": [
       "Episode 500: Avg Reward (last 10) = -108.0\n"
      ]
     },
     "metadata": {},
     "output_type": "display_data"
    },
    {
     "data": {
      "text/html": [
       "<pre style=\"white-space:pre;overflow-x:auto;line-height:normal;font-family:Menlo,'DejaVu Sans Mono',consolas,'Courier New',monospace\">Episode 510: Avg Reward (last 10) = -426.0\n",
       "</pre>\n"
      ],
      "text/plain": [
       "Episode 510: Avg Reward (last 10) = -426.0\n"
      ]
     },
     "metadata": {},
     "output_type": "display_data"
    },
    {
     "name": "stdout",
     "output_type": "stream",
     "text": [
      "------------------------------------------\n",
      "| time/                   |              |\n",
      "|    fps                  | 1250         |\n",
      "|    iterations           | 25           |\n",
      "|    time_elapsed         | 40           |\n",
      "|    total_timesteps      | 51200        |\n",
      "| train/                  |              |\n",
      "|    approx_kl            | 0.0049804538 |\n",
      "|    clip_fraction        | 0.0285       |\n",
      "|    clip_range           | 0.2          |\n",
      "|    entropy_loss         | -4.91        |\n",
      "|    explained_variance   | 0.306        |\n",
      "|    learning_rate        | 0.0003       |\n",
      "|    loss                 | 203          |\n",
      "|    n_updates            | 240          |\n",
      "|    policy_gradient_loss | -0.0173      |\n",
      "|    value_loss           | 1.27e+03     |\n",
      "------------------------------------------\n"
     ]
    },
    {
     "data": {
      "text/html": [
       "<pre style=\"white-space:pre;overflow-x:auto;line-height:normal;font-family:Menlo,'DejaVu Sans Mono',consolas,'Courier New',monospace\"></pre>\n"
      ],
      "text/plain": []
     },
     "metadata": {},
     "output_type": "display_data"
    },
    {
     "name": "stdout",
     "output_type": "stream",
     "text": [
      "\n",
      "✅ Training complete!\n",
      "   Total episodes: 512\n",
      "   Final avg reward: -447.5\n"
     ]
    }
   ],
   "source": [
    "# Train the model\n",
    "print('Training for 50,000 timesteps...')\n",
    "print('This will take about 5-10 minutes.')\n",
    "print('Watch the average reward increase!\\n')\n",
    "\n",
    "model.learn(\n",
    "    total_timesteps=50_000,\n",
    "    callback=callback,\n",
    "    progress_bar=True\n",
    ")\n",
    "\n",
    "print('\\n✅ Training complete!')\n",
    "print(f'   Total episodes: {len(callback.episode_rewards)}')\n",
    "print(f'   Final avg reward: {np.mean(callback.episode_rewards[-10:]):.1f}')"
   ]
  },
  {
   "cell_type": "code",
   "execution_count": 11,
   "metadata": {},
   "outputs": [
    {
     "data": {
      "image/png": "[encoded data removed]",
      "text/plain": [
       "<Figure size 1200x400 with 2 Axes>"
      ]
     },
     "metadata": {},
     "output_type": "display_data"
    },
    {
     "name": "stdout",
     "output_type": "stream",
     "text": [
      "✅ Training plots generated\n"
     ]
    }
   ],
   "source": [
    "# Plot training progress\n",
    "plt.figure(figsize=(12, 4))\n",
    "\n",
    "plt.subplot(1, 2, 1)\n",
    "plt.plot(callback.episode_rewards, alpha=0.3, label='Episode Reward')\n",
    "# Moving average\n",
    "window = 10\n",
    "if len(callback.episode_rewards) >= window:\n",
    "    moving_avg = np.convolve(callback.episode_rewards, \n",
    "                             np.ones(window)/window, mode='valid')\n",
    "    plt.plot(range(window-1, len(callback.episode_rewards)), moving_avg, \n",
    "             label=f'{window}-Episode Moving Avg', linewidth=2)\n",
    "plt.xlabel('Episode')\n",
    "plt.ylabel('Total Reward')\n",
    "plt.title('Training Progress')\n",
    "plt.legend()\n",
    "plt.grid(True, alpha=0.3)\n",
    "\n",
    "plt.subplot(1, 2, 2)\n",
    "plt.plot(callback.episode_lengths, alpha=0.5)\n",
    "plt.xlabel('Episode')\n",
    "plt.ylabel('Episode Length')\n",
    "plt.title('Episode Lengths')\n",
    "plt.grid(True, alpha=0.3)\n",
    "\n",
    "plt.tight_layout()\n",
    "plt.show()\n",
    "\n",
    "print('✅ Training plots generated')"
   ]
  },
  {
   "cell_type": "markdown",
   "metadata": {},
   "source": [
    "---\n",
    "# Section 4: Evaluate Trained Agent\n",
    "\n",
    "Let's watch the trained agent in action!"
   ]
  },
  {
   "cell_type": "code",
   "execution_count": 12,
   "metadata": {},
   "outputs": [
    {
     "name": "stdout",
     "output_type": "stream",
     "text": [
      "Step 95: Aircraft=0, Exits=7, Violations=0, Total Reward=125.4\n",
      "\n",
      "✅ Evaluation Complete!\n",
      "\n",
      "Results:\n",
      "  Successful Exits: 7\n",
      "  Separation Violations: 0\n",
      "  Total Reward: 125.0\n",
      "\n",
      "Compare to random policy (typically: 0-2 exits, 5+ violations, reward < -50)\n"
     ]
    }
   ],
   "source": [
    "# Create evaluation environment with rendering\n",
    "eval_env = Simple2DATCEnv(max_aircraft=5, max_steps=100, render_mode='human')\n",
    "\n",
    "print('Evaluating trained agent...')\n",
    "print('Watch how it routes aircraft to avoid conflicts!\\n')\n",
    "\n",
    "obs, info = eval_env.reset()\n",
    "eval_env.render()\n",
    "\n",
    "for step in range(100):\n",
    "    # Use trained model to predict action\n",
    "    action, _states = model.predict(obs, deterministic=True)\n",
    "    obs, reward, terminated, truncated, info = eval_env.step(action)\n",
    "    \n",
    "    if step % 5 == 0:\n",
    "        clear_output(wait=True)\n",
    "        eval_env.render()\n",
    "        print(f\"Step {step}: Aircraft={info['num_aircraft']}, \"\n",
    "              f\"Exits={info['successful_exits']}, \"\n",
    "              f\"Violations={info['separations_lost']}, \"\n",
    "              f\"Total Reward={info['total_reward']:.1f}\")\n",
    "        time.sleep(0.3)\n",
    "    \n",
    "    if terminated or truncated:\n",
    "        break\n",
    "\n",
    "print(f\"\\n✅ Evaluation Complete!\")\n",
    "print(f\"\\nResults:\")\n",
    "print(f\"  Successful Exits: {info['successful_exits']}\")\n",
    "print(f\"  Separation Violations: {info['separations_lost']}\")\n",
    "print(f\"  Total Reward: {info['total_reward']:.1f}\")\n",
    "print(f\"\\nCompare to random policy (typically: 0-2 exits, 5+ violations, reward < -50)\")\n",
    "\n",
    "eval_env.close()"
   ]
  },
  {
   "cell_type": "markdown",
   "metadata": {},
   "source": [
    "---\n",
    "# Summary\n",
    "\n",
    "## What We Built\n",
    "\n",
    "✅ **Simple 2D ATC environment** - Aircraft moving in a square airspace  \n",
    "✅ **Gymnasium interface** - Standard RL environment  \n",
    "✅ **PPO training** - Stable-Baselines3 for quick results  \n",
    "✅ **Visual feedback** - Watch aircraft as they learn\n",
    "\n",
    "## Key Results\n",
    "\n",
    "After just 50,000 timesteps (~5-10 minutes):\n",
    "- **Random policy**: 0-2 successful exits, 5+ violations, reward ~ -50\n",
    "- **Trained policy**: 5+ successful exits, 0-1 violations, reward ~ +50\n",
    "\n",
    "The agent learned to:\n",
    "1. Route aircraft to correct exits\n",
    "2. Avoid separation violations\n",
    "3. Handle multiple aircraft simultaneously\n",
    "\n",
    "## Next Steps\n",
    "\n",
    "**Easy improvements**:\n",
    "- Train longer (100k+ steps)\n",
    "- Add more aircraft (increase max_aircraft)\n",
    "- Tune rewards (increase exit bonus, adjust penalties)\n",
    "\n",
    "**Advanced extensions**:\n",
    "- Add altitude dimension → See `realistic_3d_atc.ipynb`\n",
    "- Variable aircraft speeds\n",
    "- More complex airspace geometry\n",
    "- Different RL algorithms (SAC, TD3)\n",
    "\n",
    "**For realistic ATC**:\n",
    "- Check out the main project with OpenScope game integration\n",
    "- Try `realistic_3d_atc.ipynb` for 3D simulation\n",
    "\n",
    "---\n",
    "\n",
    "**Great job!** You've trained an RL agent for air traffic control from scratch! 🎉"
   ]
  }
 ],
 "metadata": {
  "kernelspec": {
   "display_name": ".venv",
   "language": "python",
   "name": "python3"
  },
  "language_info": {
   "codemirror_mode": {
    "name": "ipython",
    "version": 3
   },
   "file_extension": ".py",
   "mimetype": "text/x-python",
   "name": "python",
   "nbconvert_exporter": "python",
   "pygments_lexer": "ipython3",
   "version": "3.13.2"
  }
 },
 "nbformat": 4,
 "nbformat_minor": 4
}
